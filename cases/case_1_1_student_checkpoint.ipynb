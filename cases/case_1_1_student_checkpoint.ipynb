{
  "nbformat": 4,
  "nbformat_minor": 0,
  "metadata": {
    "kernelspec": {
      "display_name": "Python 3",
      "language": "python",
      "name": "python3"
    },
    "language_info": {
      "codemirror_mode": {
        "name": "ipython",
        "version": 3
      },
      "file_extension": ".py",
      "mimetype": "text/x-python",
      "name": "python",
      "nbconvert_exporter": "python",
      "pygments_lexer": "ipython3",
      "version": "3.7.3"
    },
    "colab": {
      "name": "case_1.1_student-checkpoint.ipynb",
      "provenance": [],
      "collapsed_sections": [
        "st4-x6jimUch",
        "UGYa20l5mUeM",
        "uWQFQDzxmUeV",
        "Hqwa3vXgmUeV"
      ],
      "include_colab_link": true
    }
  },
  "cells": [
    {
      "cell_type": "markdown",
      "metadata": {
        "id": "view-in-github",
        "colab_type": "text"
      },
      "source": [
        "<a href=\"https://colab.research.google.com/github/paulacatamoreno/ds4a/blob/master/case_1_1_student_checkpoint.ipynb\" target=\"_parent\"><img src=\"https://colab.research.google.com/assets/colab-badge.svg\" alt=\"Open In Colab\"/></a>"
      ]
    },
    {
      "cell_type": "markdown",
      "metadata": {
        "id": "qzQ4xmKQmUcR",
        "colab_type": "text"
      },
      "source": [
        "# Pre-Case Setup: Git"
      ]
    },
    {
      "cell_type": "markdown",
      "metadata": {
        "id": "-ZTKriRDmUcT",
        "colab_type": "text"
      },
      "source": [
        "## Goals\n",
        "\n",
        "By the end of this case you should have properly set up and familiarized yourself with Python, Jupyter, Anaconda, and GitHub. \n",
        "\n",
        "You should further have a working knowledge of various fundamental building blocks of Python (listed at the end of the case). This means being able to write simple code to perform analytical tasks such as creating metrics for making a business decision."
      ]
    },
    {
      "cell_type": "markdown",
      "metadata": {
        "id": "kl0DFXUdmUcU",
        "colab_type": "text"
      },
      "source": [
        "## Python and Jupyter\n",
        "\n",
        "Python is a general purpose programming language that allows for both simple and complex data analysis. Python is incredibly versatile, allowing analysts, consultants, engineers, and managers to obtain and analyze information for insightful decision-making.\n",
        "\n",
        "The [Jupyter Notebook](https://jupyter.org/index.html) is an open-source web application that allows for Python code development. Jupyter further allows for inline plotting and provides useful mechanisms for viewing data that make it an excellent resource for a variety of projects and disciplines."
      ]
    },
    {
      "cell_type": "markdown",
      "metadata": {
        "id": "AktqlKxRmUcU",
        "colab_type": "text"
      },
      "source": [
        "## File Management with Python and Jupyter\n",
        "\n",
        "It is common practice to have a main folder where all projects will be located (e.g. \"jupyter_research\"). The following are guidelines you can use for Python projects to help keep your code organized and accessible:\n",
        "\n",
        "1. Create subfolders for each Jupyter-related project\n",
        "3. Group related .ipynb (the file format for Jupyter Notebook) files together in the same folder\n",
        "2. Create a \"Data\" folder within individual project folders if using a large number of related data files\n",
        "\n",
        "You should now be set up and ready to begin coding in Python!"
      ]
    },
    {
      "cell_type": "markdown",
      "metadata": {
        "id": "MJ77o0tXmUcV",
        "colab_type": "text"
      },
      "source": [
        "## Setting up Git, GitHub, and cloning a repository"
      ]
    },
    {
      "cell_type": "markdown",
      "metadata": {
        "id": "YoMbkiG6mUcV",
        "colab_type": "text"
      },
      "source": [
        "Git is a free and open-source distributed version-control system. It is very useful for both simple software projects and large multi-functional projects that span thousands of files.  The main website for Git documentation is https://git-scm.com/. We will go over a brief introduction to Git here to get up and running with the software, in addition to understanding how its version control system operates. We'll create a new repository and also cover how to clone a repository from GitHub. GitHub is an online platform that hosts repositories for users to interact with on their own projects and collaborative projects.\n",
        "\n",
        "Here is a [Git tutorial](https://www.youtube.com/watch?v=HVsySz-h9r4) you can watch in your spare time to advance your understanding of this distributed file-sharing system.\n",
        "\n",
        "There are also numerous specialized [GUIs for Git](https://git-scm.com/downloads/guis/). These are effectively different editors for Git and you can choose one that you like. We recommend you search for a simple introductory tutorial on the editor of your choice as well.\n",
        "\n",
        "The following steps outline how to get started with Git, sign up for a GitHub account, create a repository, and clone a repository to your computer:"
      ]
    },
    {
      "cell_type": "markdown",
      "metadata": {
        "id": "T_j7TzVjmUcW",
        "colab_type": "text"
      },
      "source": [
        "1. Open your browser and go to https://git-scm.com/downloads and download Git for your operating system\n",
        "\n",
        "2. Create a new repository by browsing to the folder on your computer that you'd like to work under. From this folder, run the command: git init\n",
        "\n",
        "3. Open your browser and go to https://github.com/ and sign up for a Github account\n",
        "\n",
        "4. On GitHub, navigate to the main page of the repository you are interested in using. Note that when you create a repository on GitHub, it is a remote repository. We will clone a repository to create a local copy on your computer and we can then sync between the two locations when needed. Hence, we will have a local copy of the repository and a remote copy of the repository.\n",
        "\n",
        "5. Under the repository name on Github, click clone or download\n",
        "\n",
        "6. In the Clone with HTTPS section, copy the clone URL link\n",
        "\n",
        "7. Open your command line and navigate to the current working directory to the location where you want the cloned directory to be made. Type and run the command: git clone https://github.com/YOUR-USERNAME/YOUR-REPOSITORY (paste the link that you copied before).\n",
        "\n",
        "You should have now created your local clone of the repository. Let's cover some of the utilities available with Git."
      ]
    },
    {
      "cell_type": "markdown",
      "metadata": {
        "id": "rFljUz_JmUcW",
        "colab_type": "text"
      },
      "source": [
        "## Understanding the Git workflow\n",
        "\n",
        "Git is a distributed version-control system. This means that it allows you to track _changes_ to a set of files. You might be used to seeing files with names like \"Essay(2)(2)\\_FINAL(2)\\_edits2March(3).docx\" as you try to keep different versions of a file in sync while it is being changed by multiple people. Git solves this problem by tracking changes as specific **commits**, allowing you to go back in time to previous versions, and merge versions of files worked on by different people.\n",
        "\n",
        "Git is an advanced and highly complex tool with a steep learning curve, so don't worry if not everything makes sense from the start. You'll only need to learn a few concepts to start using Git. Specifically, you'll need to know how to:\n",
        "\n",
        "* Indicate which files you want to track using git\n",
        "* Commit changes to these files at specific points in time\n",
        "* Push these changes to a remote host\n",
        "\n",
        "Note the difference between \"git\" (the software you run locally that has been in use for years) and \"GitHub\" (the most popular host for git repositories). You'll use the software `git` on your local machine, and then push your code to GitHub for sharing, collaboration, and as a backup of your files.\n",
        "\n",
        "The most important git commands you'll need to use in the beginning are `git add` (which indicates which files you want git to track), `git commit` (which indicates when you want to create a \"checkpoint\" of your tracked files) and `git push` (which indicates when you want to push data from your local machine to GitHub).\n",
        "\n",
        "Let's go through a simple example of committing a change to some text file ```hello.txt```:\n",
        "\n",
        "1. Create a text file `hello.txt` on your local computer in the folder you will be using Git from.\n",
        "\n",
        "2. Edit the file to add one line to the text file; e.g. you add \"Hello World\" as the first line. Save the file.\n",
        "\n",
        "3. Track this file using git. To do this, use the command: ```git add hello.txt```. (If you have multiple files and you'd like to add all the files with changes in the folder to be tracked by git you can use the command: ```git add *```)\n",
        "\n",
        "4. To commit the changes on all tracked files, use the command: ```git commit -m \"Commit message\"``` where \"Commit message\" should be a short but descriptive reminder of the changes you've made since the last time you ran a commit (for the first one, you can use something like \"initial commit\" as a message, but using as descriptive a message as possible will help debug any problems further down the line).\n",
        "\n",
        "5. You've created a checkpoint of your files now (something you could revert back to later if needed), but it still only exists on your local machine. To push the changes to your remote repository, use the command: ```git push origin master```\n",
        "\n",
        "Some other useful commands that you can use to check the status and history of your repository include:\n",
        "\n",
        "* ```git status```, which shows you whether files are untracked, or tracked but have changes and need to be committed.\n",
        "* ```git log```, which shows you a list of commit messages that have been applied."
      ]
    },
    {
      "cell_type": "markdown",
      "metadata": {
        "id": "uKO3LXuOmUcX",
        "colab_type": "text"
      },
      "source": [
        "This covers the basics of Git. While it takes considerable practice to master, we've covered the cloning, adding, committing, and pushing features that are the backbone of the Git version control software.\n",
        "\n",
        "We're ready to begin the case."
      ]
    },
    {
      "cell_type": "markdown",
      "metadata": {
        "id": "m7445RSlmUcX",
        "colab_type": "text"
      },
      "source": [
        "# Identifying Expansion Opportunities for Luxury Commercial Airline Flights"
      ]
    },
    {
      "cell_type": "markdown",
      "metadata": {
        "id": "aWFmqVmRmUcY",
        "colab_type": "text"
      },
      "source": [
        "## Case Introduction\n",
        "\n",
        "**Business Context.** You are an employee for GrowthAir, a growing commercial airline company. In the past few years, GrowthAir has expanded luxury flight services to locations across the globe. Following your team's excellent performance in identifying new business opportunities last year, you have been tasked with identifying the top countries to further expand GrowthAir's luxury flight service.\n",
        "\n",
        "**Business Problem.** Your manager has asked you to answer the following question: <b>\"In which countries should GrowthAir expand its luxury flight service?\"</b>\n",
        "\n",
        "**Analytical Context.** The relevant data is a series of success estimates (i.e. probabilities of success) that your internal marketing research teams have come up with. Using your ability to conduct data analysis in Python, you will embark on summarizing the available success estimates to produce a concise recommendation to your boss.\n",
        "\n",
        "**Execution**. In this case, you will look at simple metrics on the data such as mean, median, min/max, and ultimately make your suggestion based on these elementary statistics. The analysis portion should be relatively simple and every student should be able to do this with pen and paper. However, what is special about this case is that you will perform these tasks in a Python environment to familiarize yourself with new techniques and tools. "
      ]
    },
    {
      "cell_type": "markdown",
      "metadata": {
        "id": "UxcoW2_wmUcY",
        "colab_type": "text"
      },
      "source": [
        "## Fundamentals of Python\n",
        "\n",
        "[Python](https://docs.python.org/3/) is an [interpreted, high-level general-programming language](https://www.webopedia.com/TERM/O/object_oriented_programming_OOP.html) that was first released in 1991. Python allows users to easily manipulate data and store values in what are known as <b>objects</b>. Everything in Python is an object and has a <b>type</b>. \n",
        "\n",
        "For example, if a user aims to store the integer 5 in an object named ```my_int```, this can be accomplished by writing the Python statement, ```my_int = 5```. If you're used to syntax from mathematics, this can seem confusing. In this case `my_int` is a variable, much like you might find in algebra, but the `=` sign is for _assignment_ not _equality_ (the latter is denoted with `==`). So in this case `my_int = 5` should be taken to mean something more like `Let my_int be equal to 5` rather than `my_int is equal to 5`.\n",
        "\n",
        "Here, `my_int` is an example of a _variable_ because it can change value (we could later assign a different value to it) and it is of type Integer, known in Python simply as `int`. Unlike some other programming languages, Python guesses the type of the variable from the value that we assign, so we do not need to specify the type of the variable explicitly.\n",
        "\n",
        "Python variables have a variety of data types. If you are used to using Microsoft Excel, this is similar to how Excel distinguishes between data types such as Text, Number, Currency, Date, or Scientific. Here are some common data types that you will come across in Python:\n",
        "\n",
        "1. Integers, type ```int```: ```my_int = 1```\n",
        "2. Float type ```float```: ```my_float = 25.5```\n",
        "3. Strings, type ```str```: ```my_string = 'Hello'```\n",
        "\n",
        "Note that the names `my_int`, `my_float` and `my_string` are arbitrary here. While it is useful to name your variables so that the names contain some information about what they are used for, this code would be functionally identical to if we had used `x`, `xrtqp2` and `my_very_long_variable_name`, respectively.\n",
        "\n",
        "Here we see (1) <b>integers</b> and (2) <b>floats</b> store numeric data.  The difference between the two is that floats store decimal variables (fractions), whereas the integer type can only store integer variables (whole numbers). Finally, (3) is the <b>string</b> type. Strings are used to store textual data in Python (a string of one or more characters). Later in this case we will use string variables to store country names. They are often used to store identifiers such as person names, city names, and more.\n",
        "\n",
        "There are other data types available in Python; however, these are the three fundamental types that you will see across almost every Python program. Always keep in mind that **every** object in Python has a type and some of these \"types\" can be custom-defined by the user, which is one of the benefits of Python.\n",
        "\n",
        "The simplest use of Python is as a calculator. We have seen how to assign values to variables, but we can also carry out computations on these variables. A Python program contains one or more lines of code, which are executed in a top-down fashion (with some exceptions that we'll come across later). The following Python program demonstrates this functionality:\n",
        "\n",
        "```\n",
        "x = 5\n",
        "y = 7\n",
        "z = x + y -1 \n",
        "print(z)\n",
        "```\n",
        "\n",
        "The `print` function simply outputs data to your screen (it has nothing to do with a computer printer, and won't waste your ink or paper!). In the code above, we start at the top and work down. This means we assign the value `5` to the variable `x`, then the value `7` to the variable `y` and finally the sum of the values `x` and `y` minus `1` to the variable `z`. Make sure that you can create this Python program and that you get the output `11` before you continue.\n",
        "\n",
        "There is a lot more to Python than the above. In this case, we will introduce you to more basic Python concepts. If you prefer, you can first go through the more extensive [official Python tutorial](https://docs.python.org/3/tutorial/introduction.html) and/or the [W3School Python tutorial](https://www.w3schools.com/python/) and practice more fundamental concepts before proceeding with this case. It is highly recommended that you go through either or both of these tutorials either before or after going through this notebook to solidify and augment your understanding of Python."
      ]
    },
    {
      "cell_type": "markdown",
      "metadata": {
        "id": "sDrj5feLmUcZ",
        "colab_type": "text"
      },
      "source": [
        "### Exercise 0\n",
        " \n",
        "#### 0.1\n",
        "\n",
        "* Use Python to calculate the answer to 1675 - 886 and print it out\n",
        "\n",
        "* Assign your name to a Python variable and print it out\n",
        "\n",
        "* Calculate the result of 65.4 + 7 - 6 + 2 and print it out"
      ]
    },
    {
      "cell_type": "markdown",
      "metadata": {
        "id": "Ey2_RqjpmUcZ",
        "colab_type": "text"
      },
      "source": [
        "**Answer.**"
      ]
    },
    {
      "cell_type": "code",
      "metadata": {
        "id": "IFKnQTz3mUcZ",
        "colab_type": "code",
        "outputId": "d2053a5a-4d79-43a3-83be-616287f08edd",
        "colab": {
          "base_uri": "https://localhost:8080/",
          "height": 34
        }
      },
      "source": [
        "#Code in this cell.\n",
        "#You can also add more cells to write code, or markdown, as required.\n",
        "a= 1675-886\n",
        "print(a)"
      ],
      "execution_count": 0,
      "outputs": [
        {
          "output_type": "stream",
          "text": [
            "789\n"
          ],
          "name": "stdout"
        }
      ]
    },
    {
      "cell_type": "code",
      "metadata": {
        "id": "k1K9bCdAmUcc",
        "colab_type": "code",
        "outputId": "81cf6e5e-61d7-4284-b4fb-68eb3b721515",
        "colab": {
          "base_uri": "https://localhost:8080/",
          "height": 34
        }
      },
      "source": [
        "#Code in this cell.\n",
        "my_name='Catalina Moreno'\n",
        "my_name"
      ],
      "execution_count": 0,
      "outputs": [
        {
          "output_type": "execute_result",
          "data": {
            "text/plain": [
              "'Catalina Moreno'"
            ]
          },
          "metadata": {
            "tags": []
          },
          "execution_count": 42
        }
      ]
    },
    {
      "cell_type": "code",
      "metadata": {
        "id": "B7JfrPv9mUcf",
        "colab_type": "code",
        "outputId": "d08275ad-5572-4d74-fdd3-28754ef485ea",
        "colab": {
          "base_uri": "https://localhost:8080/",
          "height": 34
        }
      },
      "source": [
        "#Code in this cell.\n",
        "b = 65.4 + 7 - 6 + 2\n",
        "print (b)"
      ],
      "execution_count": 0,
      "outputs": [
        {
          "output_type": "stream",
          "text": [
            "68.4\n"
          ],
          "name": "stdout"
        }
      ]
    },
    {
      "cell_type": "markdown",
      "metadata": {
        "id": "st4-x6jimUch",
        "colab_type": "text"
      },
      "source": [
        "#### 0.2\n",
        "\n",
        "We mentioned before that variables can change value. Let's take a look at how this works, and also introduce a few more Python operations:"
      ]
    },
    {
      "cell_type": "code",
      "metadata": {
        "id": "09RlOIDdmUch",
        "colab_type": "code",
        "outputId": "0c803f4b-387c-47da-d2ea-e73759b4a027",
        "colab": {
          "base_uri": "https://localhost:8080/"
        }
      },
      "source": [
        "x = 4\n",
        "print(x)\n",
        "y = 2\n",
        "x = y + x\n",
        "print(x)"
      ],
      "execution_count": 0,
      "outputs": [
        {
          "output_type": "stream",
          "text": [
            "4\n",
            "6\n"
          ],
          "name": "stdout"
        }
      ]
    },
    {
      "cell_type": "markdown",
      "metadata": {
        "id": "Zh9aA7h6mUcl",
        "colab_type": "text"
      },
      "source": [
        "Again, if you're used to syntax from mathematics \"x = y + x\" might look very wrong at first glance. However, it simply means \"throw out the existing value of x, and assign a new value which is calculated as the sum of y and x\". Here, we can see that the value of x changes, demonstrating why we call them \"variables\".\n",
        "    \n",
        "We can also use more operators than just `+` and `-`. We use `*` for multiplication, `/` for division, and `**` for power. The standard order of operations rules from mathematics also applies and parentheses `()` can be used to override these:"
      ]
    },
    {
      "cell_type": "code",
      "metadata": {
        "id": "-P72aR5XmUcm",
        "colab_type": "code",
        "outputId": "ca5c78cf-0b5a-4438-e63b-7d897c68b2d6",
        "colab": {
          "base_uri": "https://localhost:8080/"
        }
      },
      "source": [
        "x = 2\n",
        "y = 3\n",
        "print (x + y ** x)\n",
        "print((x+y)**x)"
      ],
      "execution_count": 0,
      "outputs": [
        {
          "output_type": "stream",
          "text": [
            "11\n",
            "25\n"
          ],
          "name": "stdout"
        }
      ]
    },
    {
      "cell_type": "markdown",
      "metadata": {
        "id": "HeIKfqHEmUcp",
        "colab_type": "text"
      },
      "source": [
        "Now try it yourself. Assign the values 3, 4, 5 to three different variables called `a`, `b`, and `c`, and calculate the values of \n",
        "\n",
        "* `c` squared\n",
        "* `a` squared + `b` squared"
      ]
    },
    {
      "cell_type": "markdown",
      "metadata": {
        "id": "b5fNKcoNmUcp",
        "colab_type": "text"
      },
      "source": [
        "**Answer.**"
      ]
    },
    {
      "cell_type": "code",
      "metadata": {
        "id": "xVdTrfEVmUcp",
        "colab_type": "code",
        "outputId": "03401723-4948-4e05-835b-af2ffcb63556",
        "colab": {
          "base_uri": "https://localhost:8080/"
        }
      },
      "source": [
        "#Code in this cell.\n",
        "a=3\n",
        "b=4\n",
        "c=5\n",
        "print(c**2)\n",
        "print((a**2)+(b**2))"
      ],
      "execution_count": 0,
      "outputs": [
        {
          "output_type": "stream",
          "text": [
            "25\n",
            "25\n"
          ],
          "name": "stdout"
        }
      ]
    },
    {
      "cell_type": "markdown",
      "metadata": {
        "id": "5KMeftZEmUcr",
        "colab_type": "text"
      },
      "source": [
        "______"
      ]
    },
    {
      "cell_type": "markdown",
      "metadata": {
        "id": "PM1YypkImUcs",
        "colab_type": "text"
      },
      "source": [
        "Now that we've covered the fundamentals of Python, let's take a look at GrowthAir's proprietary company data on country success estimates."
      ]
    },
    {
      "cell_type": "markdown",
      "metadata": {
        "id": "cs3b24ZrmUcs",
        "colab_type": "text"
      },
      "source": [
        "## Exploring company data on success estimates\n",
        "\n",
        "Your company has some proprietary data that they need you to analyze. This data consists of estimates of the probability of success for global expansion projects by country, created by several leading analysis agencies.\n",
        "\n",
        "The ```success_estimates``` variable below is a Python dictionary. Before, we showed how variables could contain simple data types like a single integer, or a string. As an extension of that, variables can also refer to **data structures**. These are more complicated data types that comprise many single pieces of data, organized in a specific way.\n",
        "\n",
        "As before, we use `=`, the **assignment operator**, to assign a value to the variable. \n",
        "\n",
        "Python's dictionary type stores a mapping of key-value pairs that allow users to quickly access information for a particular key. By specifying a key, the user can return the value corresponding to the given key. Python's syntax for [dictionaries](https://www.w3schools.com/python/python_dictionaries.asp) uses curly braces {}:\n",
        "\n",
        "```python\n",
        "user_dictionary = {'Key1': Value1, 'Key2': Value2, 'Key3': Value3}\n",
        "```\n",
        "\n",
        "The ```success_estimates``` dictionary has keys which are strings, and values which are of type <b>list</b>. A [list](https://www.w3schools.com/python/python_lists.asp) is an incredibly useful data structure in Python that can store any number of Python objects, and are denoted by the use of square brackets ```[]```. \n",
        "\n",
        "In ```success_estimates``` below, the list contains float types. Lists are versatile and can be expanded by adding new elements to the end of the list (the right-most side is considered the end of the list). Moreover, list elements (i.e. the objects in the list) can be accessed easily using integer indices. Interestingly, lists can also store other lists (called a lists of lists).  This makes them a powerful tool for holding complex data sets.\n",
        "\n",
        "Let's take a look at the ```success_estimates``` data. Each estimate (each item in each list) here is a number (float) between 0 and 1 inclusive, which represents the probability that expanding to that country will be successful. For example, we have 4 estimates of success for expanding into Australia, These are 0.6 (fairly likely that we will succeed), 0.33 (fairly unlikely that we will succeed), 0.11 (very unlikely that we will succeed) and 0.14 (also very unlikely that we succeed). Overall, Australia does not seem like a good choice."
      ]
    },
    {
      "cell_type": "code",
      "metadata": {
        "id": "ajmacVPMmUct",
        "colab_type": "code",
        "colab": {}
      },
      "source": [
        "# Lines that start with the `#` symbol are comments, and are ignored by Python completely\n",
        "# They only exist to make your code more readable for humans\n",
        "# It's good practice to have one or more comments above non-obvious parts of code \n",
        "# to explain what they do\n",
        "\n",
        "# Data on probability of expansion success by country estimates\n",
        "success_estimates = {\n",
        "    'Australia': [0.6, 0.33, 0.11, 0.14],\n",
        "    'France': [0.66, 0.78, 0.98, 0.2],\n",
        "    'Italy': [0.6],\n",
        "    'Brazil': [0.22, 0.22, 0.43],\n",
        "    'USA': [0.2, 0.5, 0.3],\n",
        "    'England': [0.45],\n",
        "    'Canada': [0.25, 0.3],\n",
        "    'Argentina': [0.22],\n",
        "    'Greece': [0.45, 0.66, 0.75, 0.99, 0.15, 0.66],\n",
        "    'Morocco': [0.29],\n",
        "    'Tunisia': [0.68, 0.56],\n",
        "    'Egypt': [0.99],\n",
        "    'Jamaica': [0.61, 0.65, 0.71],\n",
        "    'Switzerland': [0.73, 0.86, 0.84, 0.51, 0.99],\n",
        "    'Germany': [0.45, 0.49, 0.36]\n",
        "}"
      ],
      "execution_count": 0,
      "outputs": []
    },
    {
      "cell_type": "markdown",
      "metadata": {
        "id": "bfctKqhHmUcu",
        "colab_type": "text"
      },
      "source": [
        "Above, we have defined out dataset, mapping specific countries to lists of values (estimates). The simplest thing we can do with this data is to output it, again using the `print()` function as follows:"
      ]
    },
    {
      "cell_type": "code",
      "metadata": {
        "scrolled": true,
        "id": "Wpx5PPHImUcv",
        "colab_type": "code",
        "outputId": "032429ef-315c-459e-a5bb-e792b769d8b3",
        "colab": {
          "base_uri": "https://localhost:8080/",
          "height": 54
        }
      },
      "source": [
        "#no quotations marks needed when printing an existing variable\n",
        "print(success_estimates)"
      ],
      "execution_count": 0,
      "outputs": [
        {
          "output_type": "stream",
          "text": [
            "{'Australia': [0.6, 0.33, 0.11, 0.14], 'France': [0.66, 0.78, 0.98, 0.2], 'Italy': [0.6], 'Brazil': [0.22, 0.22, 0.43], 'USA': [0.2, 0.5, 0.3], 'England': [0.45], 'Canada': [0.25, 0.3], 'Argentina': [0.22], 'Greece': [0.45, 0.66, 0.75, 0.99, 0.15, 0.66], 'Morocco': [0.29], 'Tunisia': [0.68, 0.56], 'Egypt': [0.99], 'Jamaica': [0.61, 0.65, 0.71], 'Switzerland': [0.73, 0.86, 0.84, 0.51, 0.99], 'Germany': [0.45, 0.49, 0.36]}\n"
          ],
          "name": "stdout"
        }
      ]
    },
    {
      "cell_type": "markdown",
      "metadata": {
        "id": "xXHQ6xQjmUcx",
        "colab_type": "text"
      },
      "source": [
        "We would like to recommend that the business put effort into the country with the highest success estimate. But what does this mean when there are multiple success estimates for some countries, and only one for others? We can use metrics such as averages to resolve this. We will explore this next."
      ]
    },
    {
      "cell_type": "markdown",
      "metadata": {
        "id": "SSayT7oemUcx",
        "colab_type": "text"
      },
      "source": [
        "## Interacting with dictionaries and lists\n",
        "\n",
        "Taking a careful look at the ```success_estimates``` dictionary, you notice some countries only have one success estimate, while others have many. For example, England has only one estimate contained in its list [0.45], while Jamaica has three estimates contained in its list [0.61, 0.65, 0.71]. Let's zoom in on Jamaica and take a look at some summary statistics of the estimates.\n",
        "\n",
        "In Python, the dictionary type has built-in methods (functions, which we will discuss later) to access the dictionary keys and values. These methods are called by typing ```.keys()``` or ```.values()``` after the dictionary object. We will change the return type of calling ```.keys()``` and ```.values()``` to a list by using the ```list()``` method."
      ]
    },
    {
      "cell_type": "code",
      "metadata": {
        "scrolled": true,
        "id": "ysXtAK8omUcx",
        "colab_type": "code",
        "outputId": "0fddcbe6-e859-42fd-935f-90baf63dcb7b",
        "colab": {
          "base_uri": "https://localhost:8080/",
          "height": 54
        }
      },
      "source": [
        "# Look at the keys...\n",
        "success_estimates.keys()"
      ],
      "execution_count": 0,
      "outputs": [
        {
          "output_type": "execute_result",
          "data": {
            "text/plain": [
              "dict_keys(['Australia', 'France', 'Italy', 'Brazil', 'USA', 'England', 'Canada', 'Argentina', 'Greece', 'Morocco', 'Tunisia', 'Egypt', 'Jamaica', 'Switzerland', 'Germany'])"
            ]
          },
          "metadata": {
            "tags": []
          },
          "execution_count": 49
        }
      ]
    },
    {
      "cell_type": "markdown",
      "metadata": {
        "id": "MU1aRujVmUc0",
        "colab_type": "text"
      },
      "source": [
        "Note above that the first thing you see is `dict_keys`, indicating the **type** of the data. Let's convert it to a list which is a simpler and more common data type. We can do this by passing the data into `list(...)`"
      ]
    },
    {
      "cell_type": "code",
      "metadata": {
        "id": "EH980DFemUc0",
        "colab_type": "code",
        "outputId": "efdc31fd-94e7-4ef4-f9e7-0d71404c299e",
        "colab": {
          "base_uri": "https://localhost:8080/",
          "height": 272
        }
      },
      "source": [
        "# now let's look at the keys in list form. This is more legible and usable for us later on.\n",
        "list(success_estimates.keys())"
      ],
      "execution_count": 0,
      "outputs": [
        {
          "output_type": "execute_result",
          "data": {
            "text/plain": [
              "['Australia',\n",
              " 'France',\n",
              " 'Italy',\n",
              " 'Brazil',\n",
              " 'USA',\n",
              " 'England',\n",
              " 'Canada',\n",
              " 'Argentina',\n",
              " 'Greece',\n",
              " 'Morocco',\n",
              " 'Tunisia',\n",
              " 'Egypt',\n",
              " 'Jamaica',\n",
              " 'Switzerland',\n",
              " 'Germany']"
            ]
          },
          "metadata": {
            "tags": []
          },
          "execution_count": 50
        }
      ]
    },
    {
      "cell_type": "markdown",
      "metadata": {
        "id": "LW3WvbjImUc2",
        "colab_type": "text"
      },
      "source": [
        "Note above that the data is similar but no longer starts with `dict_keys`:"
      ]
    },
    {
      "cell_type": "code",
      "metadata": {
        "id": "cy6wkhi6mUc3",
        "colab_type": "code",
        "outputId": "0f7d2f0c-833b-4a90-d5fc-461c4f5c8c69",
        "colab": {
          "base_uri": "https://localhost:8080/",
          "height": 272
        }
      },
      "source": [
        "# We can also see the corresponding values (estimates) for each key as follows\n",
        "list(success_estimates.values())"
      ],
      "execution_count": 0,
      "outputs": [
        {
          "output_type": "execute_result",
          "data": {
            "text/plain": [
              "[[0.6, 0.33, 0.11, 0.14],\n",
              " [0.66, 0.78, 0.98, 0.2],\n",
              " [0.6],\n",
              " [0.22, 0.22, 0.43],\n",
              " [0.2, 0.5, 0.3],\n",
              " [0.45],\n",
              " [0.25, 0.3],\n",
              " [0.22],\n",
              " [0.45, 0.66, 0.75, 0.99, 0.15, 0.66],\n",
              " [0.29],\n",
              " [0.68, 0.56],\n",
              " [0.99],\n",
              " [0.61, 0.65, 0.71],\n",
              " [0.73, 0.86, 0.84, 0.51, 0.99],\n",
              " [0.45, 0.49, 0.36]]"
            ]
          },
          "metadata": {
            "tags": []
          },
          "execution_count": 51
        }
      ]
    },
    {
      "cell_type": "markdown",
      "metadata": {
        "id": "3_9UCWqemUc5",
        "colab_type": "text"
      },
      "source": [
        "We will make use of the access to keys and values of a dictionary later in the case when comparing across numerous countries' estimates. For now, just remember that you can access a dictionary's full list of keys or values simply by calling built-in methods.\n",
        "\n",
        "We'd also like to check if a country name is one the keys in the dictionary. Python allows us to check if a key is in a dictionary through the use of the ```in``` keyword. The statement ```key in dictionary``` will return a <b>boolean type</b> of ```True``` if the key is one of the keys in the dictionary and ```False``` otherwise. Let's take a look at how this works."
      ]
    },
    {
      "cell_type": "code",
      "metadata": {
        "id": "hy4YrQXxmUc5",
        "colab_type": "code",
        "outputId": "eff46c84-5cb5-4a62-c1ac-ab9dac8a45e8",
        "colab": {
          "base_uri": "https://localhost:8080/",
          "height": 85
        }
      },
      "source": [
        "print('Checking if Morocco key is present:')\n",
        "print('Morocco' in success_estimates) # print the VALUE of \"Morocco in success_estimates\"\n",
        "\n",
        "print('Checking if Japan key is present:')\n",
        "japan_boolean = 'Japan' in success_estimates\n",
        "print(japan_boolean)"
      ],
      "execution_count": 0,
      "outputs": [
        {
          "output_type": "stream",
          "text": [
            "Checking if Morocco key is present:\n",
            "True\n",
            "Checking if Japan key is present:\n",
            "False\n"
          ],
          "name": "stdout"
        }
      ]
    },
    {
      "cell_type": "markdown",
      "metadata": {
        "id": "lBAJAtySmUc8",
        "colab_type": "text"
      },
      "source": [
        "We'd now like to access the value corresponding to a specific key in the ```success_estimates``` dictionary. Simply type the value name in square brackets adjacent to the dictionary name. For example, ```success_estimates['Jamaica']``` will return Jamaica's list of estimates:"
      ]
    },
    {
      "cell_type": "code",
      "metadata": {
        "id": "sfuf4gkSmUc8",
        "colab_type": "code",
        "outputId": "24e4df63-cf54-49de-ed14-3e273ab36874",
        "colab": {
          "base_uri": "https://localhost:8080/",
          "height": 34
        }
      },
      "source": [
        "success_estimates['Jamaica']"
      ],
      "execution_count": 0,
      "outputs": [
        {
          "output_type": "execute_result",
          "data": {
            "text/plain": [
              "[0.61, 0.65, 0.71]"
            ]
          },
          "metadata": {
            "tags": []
          },
          "execution_count": 53
        }
      ]
    },
    {
      "cell_type": "markdown",
      "metadata": {
        "id": "lAPChKZOmUc-",
        "colab_type": "text"
      },
      "source": [
        "If you would like to store the result in a variable to be used later, use the assignment operator ```'='```:"
      ]
    },
    {
      "cell_type": "code",
      "metadata": {
        "id": "81-tYTHTmUc_",
        "colab_type": "code",
        "colab": {}
      },
      "source": [
        "jamaica_list = success_estimates['Jamaica'] "
      ],
      "execution_count": 0,
      "outputs": []
    },
    {
      "cell_type": "markdown",
      "metadata": {
        "id": "0hFSA7DnmUdB",
        "colab_type": "text"
      },
      "source": [
        "You can then view the contents of the list via the ```print()``` method:"
      ]
    },
    {
      "cell_type": "code",
      "metadata": {
        "id": "FnKKMZPxmUdB",
        "colab_type": "code",
        "outputId": "9fff6bd0-54ab-49b5-bae2-8d99e4a60cf5",
        "colab": {
          "base_uri": "https://localhost:8080/",
          "height": 34
        }
      },
      "source": [
        "print(jamaica_list)"
      ],
      "execution_count": 0,
      "outputs": [
        {
          "output_type": "stream",
          "text": [
            "[0.61, 0.65, 0.71]\n"
          ],
          "name": "stdout"
        }
      ]
    },
    {
      "cell_type": "markdown",
      "metadata": {
        "id": "oxE5N0BGmUdD",
        "colab_type": "text"
      },
      "source": [
        "To access specific items in a dictionary, we used the **key name**. For example, we used `success_estimates['Jamaica']` to access the data about Jamaica. By contrast, to access specific elements in a list, we use an **index**, stating whether we want to access the first element, the second element, etc. Python uses **zero-based indexing**, which can be confusing at the start. This means that the first item in the list has index `0`, the second item has index `1`, and so on.\n",
        "\n",
        "We can access each of the first three items in the `jamaica_list` variable as follows:"
      ]
    },
    {
      "cell_type": "code",
      "metadata": {
        "id": "zGX_VEunmUdD",
        "colab_type": "code",
        "outputId": "1ed717aa-02ae-4346-9c3b-e45febd017a9",
        "colab": {
          "base_uri": "https://localhost:8080/",
          "height": 68
        }
      },
      "source": [
        "# Each successive print statement will print on a new line\n",
        "print(jamaica_list[0]) # prints the first element of the list\n",
        "print(jamaica_list[1]) # prints the second element of the list\n",
        "print(jamaica_list[2]) # prints the third element of the list"
      ],
      "execution_count": 0,
      "outputs": [
        {
          "output_type": "stream",
          "text": [
            "0.61\n",
            "0.65\n",
            "0.71\n"
          ],
          "name": "stdout"
        }
      ]
    },
    {
      "cell_type": "markdown",
      "metadata": {
        "id": "mgJ9LodcmUdH",
        "colab_type": "text"
      },
      "source": [
        "[Slicing and indexing lists](https://railsware.com/blog/python-for-machine-learning-indexing-and-slicing-for-lists-tuples-strings-and-other-sequential-types/) (among other objects such as arrays, dataframes) is a crucial and essential part of basic Python. You will see this often in your data science career. Instead of accessing a single item in the list, we can access sublists of the list as follows."
      ]
    },
    {
      "cell_type": "code",
      "metadata": {
        "id": "z0SQstrEmUdH",
        "colab_type": "code",
        "outputId": "e14c7333-81f4-4f09-bbfc-aaf3c16934f0",
        "colab": {
          "base_uri": "https://localhost:8080/",
          "height": 51
        }
      },
      "source": [
        "# taking the last 2 elements of jamaica_list\n",
        "print(jamaica_list[-2:])  # (go from the second last element until the end)\n",
        "print(jamaica_list[1:])  # (go from the secon d element until the end)"
      ],
      "execution_count": 0,
      "outputs": [
        {
          "output_type": "stream",
          "text": [
            "[0.65, 0.71]\n",
            "[0.65, 0.71]\n"
          ],
          "name": "stdout"
        }
      ]
    },
    {
      "cell_type": "code",
      "metadata": {
        "id": "tUKVVlIFmUdJ",
        "colab_type": "code",
        "outputId": "d51b777e-8fa7-4a59-b1d7-28f0b5588cb5",
        "colab": {
          "base_uri": "https://localhost:8080/",
          "height": 34
        }
      },
      "source": [
        "# multi-layered slicing\n",
        "print(success_estimates['Jamaica'][0]) # getting the first jamaican estimate from the dictionary"
      ],
      "execution_count": 0,
      "outputs": [
        {
          "output_type": "stream",
          "text": [
            "0.61\n"
          ],
          "name": "stdout"
        }
      ]
    },
    {
      "cell_type": "markdown",
      "metadata": {
        "id": "U16xxoqFmUdM",
        "colab_type": "text"
      },
      "source": [
        "Above, we do both in a single line of code. In most cases, Python operates from left to right, so it will first get the \"Jamaica\" item from the dictionary, and then get the first (zeroth) item from that list."
      ]
    },
    {
      "cell_type": "markdown",
      "metadata": {
        "id": "B8BfhkOCmUdM",
        "colab_type": "text"
      },
      "source": [
        "Python also offers a simple way to determine the length of a list: the ```len()``` method. We expect the length of ```jamaica_list``` to be 3 since it has three elements:"
      ]
    },
    {
      "cell_type": "code",
      "metadata": {
        "scrolled": true,
        "id": "iPKAYY3imUdM",
        "colab_type": "code",
        "outputId": "65bf4346-eebd-428f-a5a8-21abdd0f86b1",
        "colab": {
          "base_uri": "https://localhost:8080/",
          "height": 34
        }
      },
      "source": [
        "len(jamaica_list) # returns the length of the list"
      ],
      "execution_count": 0,
      "outputs": [
        {
          "output_type": "execute_result",
          "data": {
            "text/plain": [
              "3"
            ]
          },
          "metadata": {
            "tags": []
          },
          "execution_count": 59
        }
      ]
    },
    {
      "cell_type": "markdown",
      "metadata": {
        "id": "KcAP9MUDmUdO",
        "colab_type": "text"
      },
      "source": [
        "### Exercise 1:\n",
        "\n",
        "Print the length of the success estimate lists for France, Greece, and Morocco."
      ]
    },
    {
      "cell_type": "markdown",
      "metadata": {
        "id": "QdtNkVJ7mUdP",
        "colab_type": "text"
      },
      "source": [
        "**Answer.**"
      ]
    },
    {
      "cell_type": "code",
      "metadata": {
        "id": "0SxM4-dPmUdP",
        "colab_type": "code",
        "outputId": "e7d22963-186b-423f-946e-495ba9aa7a03",
        "colab": {
          "base_uri": "https://localhost:8080/",
          "height": 68
        }
      },
      "source": [
        "#Code in this cell.\n",
        "keys = ['France', 'Greece', 'Morocco']\n",
        "for key in keys:\n",
        "  print(len(success_estimates.get(key)))"
      ],
      "execution_count": 0,
      "outputs": [
        {
          "output_type": "stream",
          "text": [
            "4\n",
            "6\n",
            "1\n"
          ],
          "name": "stdout"
        }
      ]
    },
    {
      "cell_type": "markdown",
      "metadata": {
        "id": "03V1pZIsmUdR",
        "colab_type": "text"
      },
      "source": [
        "### Exercise 2:\n",
        "\n",
        "Which of the following would be useful to store project success estimates if they were available at a regional level instead of a country level?\n",
        "\n",
        "(a) List\n",
        "\n",
        "(b) Dictionary\n",
        "\n",
        "(c) Float\n",
        "\n",
        "(d) String\n",
        "\n",
        "**Answer= (b)**"
      ]
    },
    {
      "cell_type": "markdown",
      "metadata": {
        "id": "cGxW0UNTmUdR",
        "colab_type": "text"
      },
      "source": [
        "_____"
      ]
    },
    {
      "cell_type": "markdown",
      "metadata": {
        "id": "tLSRbUBtmUdS",
        "colab_type": "text"
      },
      "source": [
        "Now that we're familiar with using lists and know that lists are ordered data structures while dictionaries are unordered data structures, let's begin to compare success estimates across countries."
      ]
    },
    {
      "cell_type": "markdown",
      "metadata": {
        "id": "klImFMucmUdS",
        "colab_type": "text"
      },
      "source": [
        "## Calculating a country-specific average success estimate"
      ]
    },
    {
      "cell_type": "markdown",
      "metadata": {
        "id": "7O-Czwo5mUdT",
        "colab_type": "text"
      },
      "source": [
        "Continuing our analysis on Jamaica, the list contains three numbers, [0.61, 0.65, 0.71]. Recall these numbers are of type ```float``` in Python, which stores numeric decimal values. One logical way to summarize these estimates so that they can be compared across countries is to use the arithmetic average. Let's use basic arithmetic operators to calculate the average success estimate for Jamaica, storing the result in a new variable ```avg_jamaica```."
      ]
    },
    {
      "cell_type": "code",
      "metadata": {
        "id": "OiC7WuapmUdT",
        "colab_type": "code",
        "outputId": "97f1fc86-ff6e-48e8-b02b-b0e7a739f4de",
        "colab": {
          "base_uri": "https://localhost:8080/",
          "height": 34
        }
      },
      "source": [
        "avg_jamaica = (0.61 + 0.65 + 0.71) / 3\n",
        "print(avg_jamaica)"
      ],
      "execution_count": 0,
      "outputs": [
        {
          "output_type": "stream",
          "text": [
            "0.6566666666666666\n"
          ],
          "name": "stdout"
        }
      ]
    },
    {
      "cell_type": "markdown",
      "metadata": {
        "id": "D7JGvvpAmUdV",
        "colab_type": "text"
      },
      "source": [
        "We see the average probability of success estimate for Jamaica is approximately 0.657.  However, we produced this estimate by hand-coding the values. If we were to do this for every country, it would take quite a long time. So we'd like to use a more automated way of producing the average."
      ]
    },
    {
      "cell_type": "markdown",
      "metadata": {
        "id": "Z4iCIOMmmUdV",
        "colab_type": "text"
      },
      "source": [
        "To produce an average we can utilize a <b>function</b>. Functions operate on data and variables in Python to perform a desired action. Functions may have both <b>inputs</b> and <b>outputs</b>, just like familiar mathematical operators like addition, subtraction, multiplication, and division (which each have two inputs and one output). While functions in Python may still be for a mathematical purpose, such as squaring an integer, Python allows for more abstract function behaviour, such as printing to the screen. In this case, the ```print()``` function will print its input to the screen."
      ]
    },
    {
      "cell_type": "markdown",
      "metadata": {
        "id": "AtTq3aS-mUdV",
        "colab_type": "text"
      },
      "source": [
        "Let's use Python's built-in mathematical functions ```sum()```, ```min()```, and ```max()``` to calculate Jamaica's average success estimate, minimum success estimate, and maximum success estimate, respectively:"
      ]
    },
    {
      "cell_type": "code",
      "metadata": {
        "scrolled": true,
        "id": "NcCGqQrqmUdW",
        "colab_type": "code",
        "outputId": "692514e6-790a-422d-f1c6-57ebc52c229d",
        "colab": {
          "base_uri": "https://localhost:8080/",
          "height": 34
        }
      },
      "source": [
        "country_name = 'Jamaica'\n",
        "jamaica_list = success_estimates[country_name] # list of the estimates for Jamaica\n",
        "print(jamaica_list)"
      ],
      "execution_count": 0,
      "outputs": [
        {
          "output_type": "stream",
          "text": [
            "[0.61, 0.65, 0.71]\n"
          ],
          "name": "stdout"
        }
      ]
    },
    {
      "cell_type": "code",
      "metadata": {
        "id": "iC2r3fxjmUdZ",
        "colab_type": "code",
        "outputId": "c08891de-41ae-4711-edee-e9e6f031d8e4",
        "colab": {
          "base_uri": "https://localhost:8080/",
          "height": 68
        }
      },
      "source": [
        "avg_jamaica = sum(jamaica_list) / len(jamaica_list)\n",
        "min_jamaica = min(jamaica_list)\n",
        "max_jamaica = max(jamaica_list)\n",
        "print(\"Country:\",country_name,\", Average:\",avg_jamaica)\n",
        "print(\"Country:\",country_name,\", Min:\",min_jamaica)\n",
        "print(\"Country:\",country_name,\", Max:\",max_jamaica)"
      ],
      "execution_count": 0,
      "outputs": [
        {
          "output_type": "stream",
          "text": [
            "Country: Jamaica , Average: 0.6566666666666666\n",
            "Country: Jamaica , Min: 0.61\n",
            "Country: Jamaica , Max: 0.71\n"
          ],
          "name": "stdout"
        }
      ]
    },
    {
      "cell_type": "markdown",
      "metadata": {
        "id": "CcvtYHPfmUdb",
        "colab_type": "text"
      },
      "source": [
        "Above, note how we pass the entire `jamaica_list` as input to the `min()` function. The output is then immediately assigned to a new variable which we have called `min_jamaica`. Also, note how we can pass more than one argument to the `print()` function, separating them with commas. This allows us to combine dynamic (variable) data with fixed descriptive strings to get readable outputs. We'll come across better ways to combine variable data into strings later on."
      ]
    },
    {
      "cell_type": "markdown",
      "metadata": {
        "id": "Vsy94P3JmUdb",
        "colab_type": "text"
      },
      "source": [
        "As expected, we get the same average result of approximately 0.657. Note that we could also have rounded the results to two decimal places using the [round()](https://www.w3schools.com/python/ref_func_round.asp) method. This can improve readability."
      ]
    },
    {
      "cell_type": "code",
      "metadata": {
        "id": "pAi_k1EQmUdb",
        "colab_type": "code",
        "outputId": "bdb232e5-f9b4-41e0-c087-7289bd20f3e6",
        "colab": {
          "base_uri": "https://localhost:8080/",
          "height": 68
        }
      },
      "source": [
        "avg_jamaica = round(sum(jamaica_list) / len(jamaica_list),2)\n",
        "min_jamaica = round(min(jamaica_list),2)\n",
        "max_jamaica = round(max(jamaica_list),2)\n",
        "print(\"Country:\",country_name,\", Average:\",avg_jamaica)\n",
        "print(\"Country:\",country_name,\", Min:\",min_jamaica)\n",
        "print(\"Country:\",country_name,\", Max:\",max_jamaica)"
      ],
      "execution_count": 0,
      "outputs": [
        {
          "output_type": "stream",
          "text": [
            "Country: Jamaica , Average: 0.66\n",
            "Country: Jamaica , Min: 0.61\n",
            "Country: Jamaica , Max: 0.71\n"
          ],
          "name": "stdout"
        }
      ]
    },
    {
      "cell_type": "markdown",
      "metadata": {
        "id": "f_o5Q5gkmUdd",
        "colab_type": "text"
      },
      "source": [
        "Functions in Python are a very powerful tool to increase productivity and perform more complex tasks."
      ]
    },
    {
      "cell_type": "markdown",
      "metadata": {
        "id": "5QoeTHxnmUdd",
        "colab_type": "text"
      },
      "source": [
        "### Exercise 3:\n",
        "\n",
        "Write a script to calculate the average success for every country. Output (using ```print()```) each country's average success estimate to the screen. The print statements should output each country on a new line, for example:\n",
        "```\n",
        "Country: France , Average: 0.655\n",
        "Country: Brazil , Average: 0.29\n",
        "```"
      ]
    },
    {
      "cell_type": "markdown",
      "metadata": {
        "id": "0lx6UCXZmUde",
        "colab_type": "text"
      },
      "source": [
        "**Answer.**"
      ]
    },
    {
      "cell_type": "code",
      "metadata": {
        "id": "pnTe2n8hmUde",
        "colab_type": "code",
        "outputId": "4475a97d-3868-4ef1-9535-04fba1aaedad",
        "colab": {
          "base_uri": "https://localhost:8080/",
          "height": 272
        }
      },
      "source": [
        "#Code in this cell.\n",
        "#metode 1\n",
        "country= success_estimates.keys()\n",
        "\n",
        "for country_i in country:\n",
        "  estimates = success_estimates[country_i]\n",
        "  average=0\n",
        "\n",
        "  for estimates_i in estimates:\n",
        "    average=average+estimates_i\n",
        "\n",
        "  average= round(average/ len(estimates),2)\n",
        "  print(f'Country: {country_i} , Average: {average}')"
      ],
      "execution_count": 0,
      "outputs": [
        {
          "output_type": "stream",
          "text": [
            "Country: Australia , Average: 0.3\n",
            "Country: France , Average: 0.66\n",
            "Country: Italy , Average: 0.6\n",
            "Country: Brazil , Average: 0.29\n",
            "Country: USA , Average: 0.33\n",
            "Country: England , Average: 0.45\n",
            "Country: Canada , Average: 0.28\n",
            "Country: Argentina , Average: 0.22\n",
            "Country: Greece , Average: 0.61\n",
            "Country: Morocco , Average: 0.29\n",
            "Country: Tunisia , Average: 0.62\n",
            "Country: Egypt , Average: 0.99\n",
            "Country: Jamaica , Average: 0.66\n",
            "Country: Switzerland , Average: 0.79\n",
            "Country: Germany , Average: 0.43\n"
          ],
          "name": "stdout"
        }
      ]
    },
    {
      "cell_type": "code",
      "metadata": {
        "id": "94FMEDdxEsIZ",
        "colab_type": "code",
        "outputId": "2e923dc4-41cd-4723-9ea1-f2fd25becc0e",
        "colab": {
          "base_uri": "https://localhost:8080/",
          "height": 272
        }
      },
      "source": [
        "#Code in this cell.\n",
        "#metode 2\n",
        "\n",
        "import numpy as np\n",
        "\n",
        "country= success_estimates.keys()\n",
        "\n",
        "for country_i in country:\n",
        "  estimates = success_estimates[country_i]\n",
        "  #print(estimates)\n",
        "  #print(np.array(estimates).mean())\n",
        "  average=np.mean(estimates)\n",
        "  average= round(average,2)\n",
        "  print(f'Country: {country_i} , Average: {average}')"
      ],
      "execution_count": 0,
      "outputs": [
        {
          "output_type": "stream",
          "text": [
            "Country: Australia , Average: 0.3\n",
            "Country: France , Average: 0.66\n",
            "Country: Italy , Average: 0.6\n",
            "Country: Brazil , Average: 0.29\n",
            "Country: USA , Average: 0.33\n",
            "Country: England , Average: 0.45\n",
            "Country: Canada , Average: 0.28\n",
            "Country: Argentina , Average: 0.22\n",
            "Country: Greece , Average: 0.61\n",
            "Country: Morocco , Average: 0.29\n",
            "Country: Tunisia , Average: 0.62\n",
            "Country: Egypt , Average: 0.99\n",
            "Country: Jamaica , Average: 0.66\n",
            "Country: Switzerland , Average: 0.79\n",
            "Country: Germany , Average: 0.43\n"
          ],
          "name": "stdout"
        }
      ]
    },
    {
      "cell_type": "markdown",
      "metadata": {
        "id": "gPpZsf9UmUdg",
        "colab_type": "text"
      },
      "source": [
        "\n",
        "## Systematically determine the average success estimate for all of the countries"
      ]
    },
    {
      "cell_type": "markdown",
      "metadata": {
        "id": "o-4YYScCmUdh",
        "colab_type": "text"
      },
      "source": [
        "The end goal of this analysis is a recommendation for where global expansion opportunities should be considered. To reach a conclusion, it'd be ideal to have the average success probability for each country.\n",
        "\n",
        "To achieve this, we will use a control flow element in Python -  the [for loop](https://www.w3schools.com/python/python_for_loops.asp).  The ```for``` loop allows one to execute the same statements over and over again (i.e. looping). This saves a significant amount of time coding repetitive tasks and aids in code readability.  The general structure of a `for` loop is:\n",
        "\n",
        "```python\n",
        "for iterator_variable in some_sequence:\n",
        "    statements(s)\n",
        "```\n",
        "\n",
        "The `for` loop iterates over ```some_sequence``` and performs ```statements(s)``` at each iteration. That is, at each iteration the ```iterator_variable```  is updated to the next value in ```some_sequence```. As a concrete example, consider the loop:\n",
        "\n",
        "```python\n",
        "for i in [1,2,3,4]:\n",
        "    print(i*i)\n",
        "```\n",
        "\n",
        "Here, the `for` loop will print to the screen four times; that is it will print ```1``` on the first iteration of the loop, ```4``` on the second iteration, ```9``` on the third, and ```16``` on the fourth. Hence, the `for` loop statement will iterate over all the elements of the list ```[1,2,3,4]```, and at each iteration it updates the iterator variable ```i``` to the next value in the list ```[1,2,3,4]```. In `for` loops, it is an extremely good habit to choose an iterator variable that provides context rather than a random letter. In this case, we will use both to get you accustomed to both since you will mostly likely see both throughout the course of your data science career, but we encourage you to not use a generic name like `i` whenever possible for ease of communication.\n",
        "\n",
        "Let's use a `for` loop on our country data by getting a list of all the keys in ```success_estimates```:"
      ]
    },
    {
      "cell_type": "code",
      "metadata": {
        "id": "0fZ16ydwmUdh",
        "colab_type": "code",
        "outputId": "7680f91d-37ee-4b1a-ab6f-b9d6b1287acb",
        "colab": {
          "base_uri": "https://localhost:8080/",
          "height": 34
        }
      },
      "source": [
        "# Get all the keys from the success_estimates dictionary\n",
        "country_name_list = list(success_estimates.keys())\n",
        "print(country_name_list)"
      ],
      "execution_count": 0,
      "outputs": [
        {
          "output_type": "stream",
          "text": [
            "['Australia', 'France', 'Italy', 'Brazil', 'USA', 'England', 'Canada', 'Argentina', 'Greece', 'Morocco', 'Tunisia', 'Egypt', 'Jamaica', 'Switzerland', 'Germany']\n"
          ],
          "name": "stdout"
        }
      ]
    },
    {
      "cell_type": "markdown",
      "metadata": {
        "id": "YhcsrfOEmUdj",
        "colab_type": "text"
      },
      "source": [
        "Here we loop through all the elements in ```country_name_list```, extract the corresponding value from ```success_estimates``` (which will be of type list), and subsequently take the mean of the list. Detailed printing will guide you through the `for` loop execution:"
      ]
    },
    {
      "cell_type": "code",
      "metadata": {
        "id": "u6YeJnLxmUdk",
        "colab_type": "code",
        "outputId": "6841dccd-023d-4ebe-96c1-81dec9d914cf",
        "colab": {
          "base_uri": "https://localhost:8080/",
          "height": 1000
        }
      },
      "source": [
        "# Loop through all countries and calculate their mean success estimate\n",
        "for i in country_name_list:\n",
        "    print('--Begin one iteration of loop--')\n",
        "    print('Element of country_name_list, placeholder i = ' + i)\n",
        "    print('Access value from dict success_estimates[i]: ', success_estimates[i])\n",
        "    print('Average of list from success_estimates[i]: ', sum(success_estimates[i]) / len(success_estimates[i]))\n",
        "    print('--Go to next iteration of loop--')\n",
        "    print()"
      ],
      "execution_count": 0,
      "outputs": [
        {
          "output_type": "stream",
          "text": [
            "--Begin one iteration of loop--\n",
            "Element of country_name_list, placeholder i = Australia\n",
            "Access value from dict success_estimates[i]:  [0.6, 0.33, 0.11, 0.14]\n",
            "Average of list from success_estimates[i]:  0.29500000000000004\n",
            "--Go to next iteration of loop--\n",
            "\n",
            "--Begin one iteration of loop--\n",
            "Element of country_name_list, placeholder i = France\n",
            "Access value from dict success_estimates[i]:  [0.66, 0.78, 0.98, 0.2]\n",
            "Average of list from success_estimates[i]:  0.655\n",
            "--Go to next iteration of loop--\n",
            "\n",
            "--Begin one iteration of loop--\n",
            "Element of country_name_list, placeholder i = Italy\n",
            "Access value from dict success_estimates[i]:  [0.6]\n",
            "Average of list from success_estimates[i]:  0.6\n",
            "--Go to next iteration of loop--\n",
            "\n",
            "--Begin one iteration of loop--\n",
            "Element of country_name_list, placeholder i = Brazil\n",
            "Access value from dict success_estimates[i]:  [0.22, 0.22, 0.43]\n",
            "Average of list from success_estimates[i]:  0.29\n",
            "--Go to next iteration of loop--\n",
            "\n",
            "--Begin one iteration of loop--\n",
            "Element of country_name_list, placeholder i = USA\n",
            "Access value from dict success_estimates[i]:  [0.2, 0.5, 0.3]\n",
            "Average of list from success_estimates[i]:  0.3333333333333333\n",
            "--Go to next iteration of loop--\n",
            "\n",
            "--Begin one iteration of loop--\n",
            "Element of country_name_list, placeholder i = England\n",
            "Access value from dict success_estimates[i]:  [0.45]\n",
            "Average of list from success_estimates[i]:  0.45\n",
            "--Go to next iteration of loop--\n",
            "\n",
            "--Begin one iteration of loop--\n",
            "Element of country_name_list, placeholder i = Canada\n",
            "Access value from dict success_estimates[i]:  [0.25, 0.3]\n",
            "Average of list from success_estimates[i]:  0.275\n",
            "--Go to next iteration of loop--\n",
            "\n",
            "--Begin one iteration of loop--\n",
            "Element of country_name_list, placeholder i = Argentina\n",
            "Access value from dict success_estimates[i]:  [0.22]\n",
            "Average of list from success_estimates[i]:  0.22\n",
            "--Go to next iteration of loop--\n",
            "\n",
            "--Begin one iteration of loop--\n",
            "Element of country_name_list, placeholder i = Greece\n",
            "Access value from dict success_estimates[i]:  [0.45, 0.66, 0.75, 0.99, 0.15, 0.66]\n",
            "Average of list from success_estimates[i]:  0.61\n",
            "--Go to next iteration of loop--\n",
            "\n",
            "--Begin one iteration of loop--\n",
            "Element of country_name_list, placeholder i = Morocco\n",
            "Access value from dict success_estimates[i]:  [0.29]\n",
            "Average of list from success_estimates[i]:  0.29\n",
            "--Go to next iteration of loop--\n",
            "\n",
            "--Begin one iteration of loop--\n",
            "Element of country_name_list, placeholder i = Tunisia\n",
            "Access value from dict success_estimates[i]:  [0.68, 0.56]\n",
            "Average of list from success_estimates[i]:  0.6200000000000001\n",
            "--Go to next iteration of loop--\n",
            "\n",
            "--Begin one iteration of loop--\n",
            "Element of country_name_list, placeholder i = Egypt\n",
            "Access value from dict success_estimates[i]:  [0.99]\n",
            "Average of list from success_estimates[i]:  0.99\n",
            "--Go to next iteration of loop--\n",
            "\n",
            "--Begin one iteration of loop--\n",
            "Element of country_name_list, placeholder i = Jamaica\n",
            "Access value from dict success_estimates[i]:  [0.61, 0.65, 0.71]\n",
            "Average of list from success_estimates[i]:  0.6566666666666666\n",
            "--Go to next iteration of loop--\n",
            "\n",
            "--Begin one iteration of loop--\n",
            "Element of country_name_list, placeholder i = Switzerland\n",
            "Access value from dict success_estimates[i]:  [0.73, 0.86, 0.84, 0.51, 0.99]\n",
            "Average of list from success_estimates[i]:  0.7859999999999999\n",
            "--Go to next iteration of loop--\n",
            "\n",
            "--Begin one iteration of loop--\n",
            "Element of country_name_list, placeholder i = Germany\n",
            "Access value from dict success_estimates[i]:  [0.45, 0.49, 0.36]\n",
            "Average of list from success_estimates[i]:  0.4333333333333333\n",
            "--Go to next iteration of loop--\n",
            "\n"
          ],
          "name": "stdout"
        }
      ]
    },
    {
      "cell_type": "markdown",
      "metadata": {
        "id": "QiVDtjNSmUdl",
        "colab_type": "text"
      },
      "source": [
        "Let's take a closer look at the above ```for``` loop. The ```country_name_list``` has 15 countries which the ```for``` loop is iterating over. The ```for``` loop uses a placeholder variable, denoted ```i``` in this case, to store the element of ```country_name_list``` that each loop iteration corresponds to. Namely, for the first iteration of the ```for``` loop, ```i = 'Brazil'```. For the second iteration, ```i = 'Canada'```. And so on until the loop reaches the final element of ```country_name_list```, which it then completes and exits the looping process.\n",
        "\n",
        "Why is this looping process useful? Well, we've performed the same calculation statements 15 times while only writing the code once! Notice that for each iteration, the corresponding value from ```success_estimates``` is accessed, and the mean of the returned list is calculated. The ```for``` loop process also enhances code readability."
      ]
    },
    {
      "cell_type": "markdown",
      "metadata": {
        "id": "wbC7e3QAmUdm",
        "colab_type": "text"
      },
      "source": [
        "### Exercise 4:\n",
        "\n",
        "Write a `for` loop to instead calculate the minimum and maximum of each country's list of success estimates, printing each out consecutively as in the `for` loop example above."
      ]
    },
    {
      "cell_type": "markdown",
      "metadata": {
        "id": "hRsG0a0tmUdm",
        "colab_type": "text"
      },
      "source": [
        "**Answer.**"
      ]
    },
    {
      "cell_type": "code",
      "metadata": {
        "id": "6EHAxiJbmUdm",
        "colab_type": "code",
        "outputId": "ee4aa844-e34f-42a7-d5b5-70ac64b32386",
        "colab": {
          "base_uri": "https://localhost:8080/",
          "height": 1000
        }
      },
      "source": [
        "#Code in this cell.\n",
        "for i in country_name_list:\n",
        "    print('--Begin one iteration of loop--')\n",
        "    print('Element of country_name_list, placeholder i = ' + i)\n",
        "    print('Access value from dict success_estimates[i]: ', success_estimates[i])\n",
        "    print('Minumum of list from success_estimates[i]: ', min(success_estimates[i]))\n",
        "    print('Maximum of list from success_estimates[i]: ', max(success_estimates[i]))\n",
        "    print('--Go to next iteration of loop--')\n",
        "    print()"
      ],
      "execution_count": 0,
      "outputs": [
        {
          "output_type": "stream",
          "text": [
            "--Begin one iteration of loop--\n",
            "Element of country_name_list, placeholder i = Australia\n",
            "Access value from dict success_estimates[i]:  [0.6, 0.33, 0.11, 0.14]\n",
            "Minumum of list from success_estimates[i]:  0.11\n",
            "Maximum of list from success_estimates[i]:  0.6\n",
            "--Go to next iteration of loop--\n",
            "\n",
            "--Begin one iteration of loop--\n",
            "Element of country_name_list, placeholder i = France\n",
            "Access value from dict success_estimates[i]:  [0.66, 0.78, 0.98, 0.2]\n",
            "Minumum of list from success_estimates[i]:  0.2\n",
            "Maximum of list from success_estimates[i]:  0.98\n",
            "--Go to next iteration of loop--\n",
            "\n",
            "--Begin one iteration of loop--\n",
            "Element of country_name_list, placeholder i = Italy\n",
            "Access value from dict success_estimates[i]:  [0.6]\n",
            "Minumum of list from success_estimates[i]:  0.6\n",
            "Maximum of list from success_estimates[i]:  0.6\n",
            "--Go to next iteration of loop--\n",
            "\n",
            "--Begin one iteration of loop--\n",
            "Element of country_name_list, placeholder i = Brazil\n",
            "Access value from dict success_estimates[i]:  [0.22, 0.22, 0.43]\n",
            "Minumum of list from success_estimates[i]:  0.22\n",
            "Maximum of list from success_estimates[i]:  0.43\n",
            "--Go to next iteration of loop--\n",
            "\n",
            "--Begin one iteration of loop--\n",
            "Element of country_name_list, placeholder i = USA\n",
            "Access value from dict success_estimates[i]:  [0.2, 0.5, 0.3]\n",
            "Minumum of list from success_estimates[i]:  0.2\n",
            "Maximum of list from success_estimates[i]:  0.5\n",
            "--Go to next iteration of loop--\n",
            "\n",
            "--Begin one iteration of loop--\n",
            "Element of country_name_list, placeholder i = England\n",
            "Access value from dict success_estimates[i]:  [0.45]\n",
            "Minumum of list from success_estimates[i]:  0.45\n",
            "Maximum of list from success_estimates[i]:  0.45\n",
            "--Go to next iteration of loop--\n",
            "\n",
            "--Begin one iteration of loop--\n",
            "Element of country_name_list, placeholder i = Canada\n",
            "Access value from dict success_estimates[i]:  [0.25, 0.3]\n",
            "Minumum of list from success_estimates[i]:  0.25\n",
            "Maximum of list from success_estimates[i]:  0.3\n",
            "--Go to next iteration of loop--\n",
            "\n",
            "--Begin one iteration of loop--\n",
            "Element of country_name_list, placeholder i = Argentina\n",
            "Access value from dict success_estimates[i]:  [0.22]\n",
            "Minumum of list from success_estimates[i]:  0.22\n",
            "Maximum of list from success_estimates[i]:  0.22\n",
            "--Go to next iteration of loop--\n",
            "\n",
            "--Begin one iteration of loop--\n",
            "Element of country_name_list, placeholder i = Greece\n",
            "Access value from dict success_estimates[i]:  [0.45, 0.66, 0.75, 0.99, 0.15, 0.66]\n",
            "Minumum of list from success_estimates[i]:  0.15\n",
            "Maximum of list from success_estimates[i]:  0.99\n",
            "--Go to next iteration of loop--\n",
            "\n",
            "--Begin one iteration of loop--\n",
            "Element of country_name_list, placeholder i = Morocco\n",
            "Access value from dict success_estimates[i]:  [0.29]\n",
            "Minumum of list from success_estimates[i]:  0.29\n",
            "Maximum of list from success_estimates[i]:  0.29\n",
            "--Go to next iteration of loop--\n",
            "\n",
            "--Begin one iteration of loop--\n",
            "Element of country_name_list, placeholder i = Tunisia\n",
            "Access value from dict success_estimates[i]:  [0.68, 0.56]\n",
            "Minumum of list from success_estimates[i]:  0.56\n",
            "Maximum of list from success_estimates[i]:  0.68\n",
            "--Go to next iteration of loop--\n",
            "\n",
            "--Begin one iteration of loop--\n",
            "Element of country_name_list, placeholder i = Egypt\n",
            "Access value from dict success_estimates[i]:  [0.99]\n",
            "Minumum of list from success_estimates[i]:  0.99\n",
            "Maximum of list from success_estimates[i]:  0.99\n",
            "--Go to next iteration of loop--\n",
            "\n",
            "--Begin one iteration of loop--\n",
            "Element of country_name_list, placeholder i = Jamaica\n",
            "Access value from dict success_estimates[i]:  [0.61, 0.65, 0.71]\n",
            "Minumum of list from success_estimates[i]:  0.61\n",
            "Maximum of list from success_estimates[i]:  0.71\n",
            "--Go to next iteration of loop--\n",
            "\n",
            "--Begin one iteration of loop--\n",
            "Element of country_name_list, placeholder i = Switzerland\n",
            "Access value from dict success_estimates[i]:  [0.73, 0.86, 0.84, 0.51, 0.99]\n",
            "Minumum of list from success_estimates[i]:  0.51\n",
            "Maximum of list from success_estimates[i]:  0.99\n",
            "--Go to next iteration of loop--\n",
            "\n",
            "--Begin one iteration of loop--\n",
            "Element of country_name_list, placeholder i = Germany\n",
            "Access value from dict success_estimates[i]:  [0.45, 0.49, 0.36]\n",
            "Minumum of list from success_estimates[i]:  0.36\n",
            "Maximum of list from success_estimates[i]:  0.49\n",
            "--Go to next iteration of loop--\n",
            "\n"
          ],
          "name": "stdout"
        }
      ]
    },
    {
      "cell_type": "markdown",
      "metadata": {
        "id": "PCrJ7jDsmUdo",
        "colab_type": "text"
      },
      "source": [
        "### Exercise 5:\n",
        "\n",
        "Using the `for` loop, write code to determine the country with the largest range of success estimates (that is, the largest difference between the smallest and largest estimate for a country)."
      ]
    },
    {
      "cell_type": "markdown",
      "metadata": {
        "id": "uRfW8qZNmUdp",
        "colab_type": "text"
      },
      "source": [
        "**Answer.**"
      ]
    },
    {
      "cell_type": "code",
      "metadata": {
        "id": "_mHqRsIh-LXe",
        "colab_type": "code",
        "outputId": "99178aba-14c4-49a8-9629-0e6ef9052a85",
        "colab": {
          "base_uri": "https://localhost:8080/",
          "height": 54
        }
      },
      "source": [
        "Country = success_estimates.keys()\n",
        "Country"
      ],
      "execution_count": 0,
      "outputs": [
        {
          "output_type": "execute_result",
          "data": {
            "text/plain": [
              "dict_keys(['Australia', 'France', 'Italy', 'Brazil', 'USA', 'England', 'Canada', 'Argentina', 'Greece', 'Morocco', 'Tunisia', 'Egypt', 'Jamaica', 'Switzerland', 'Germany'])"
            ]
          },
          "metadata": {
            "tags": []
          },
          "execution_count": 70
        }
      ]
    },
    {
      "cell_type": "code",
      "metadata": {
        "id": "io47KFv7mUdp",
        "colab_type": "code",
        "outputId": "adb08e0f-ccc0-4eba-d4e3-b0ddb29226d1",
        "colab": {
          "base_uri": "https://localhost:8080/",
          "height": 272
        }
      },
      "source": [
        "#Code in this cell.\n",
        "#PART 1\n",
        "\n",
        "for i in country_name_list:\n",
        "  range_estimates=max(success_estimates[i])-min(success_estimates[i])\n",
        "  print(f'in {i} the range of success estimates is {range_estimates}')"
      ],
      "execution_count": 0,
      "outputs": [
        {
          "output_type": "stream",
          "text": [
            "in Australia the range of success estimates is 0.49\n",
            "in France the range of success estimates is 0.78\n",
            "in Italy the range of success estimates is 0.0\n",
            "in Brazil the range of success estimates is 0.21\n",
            "in USA the range of success estimates is 0.3\n",
            "in England the range of success estimates is 0.0\n",
            "in Canada the range of success estimates is 0.04999999999999999\n",
            "in Argentina the range of success estimates is 0.0\n",
            "in Greece the range of success estimates is 0.84\n",
            "in Morocco the range of success estimates is 0.0\n",
            "in Tunisia the range of success estimates is 0.12\n",
            "in Egypt the range of success estimates is 0.0\n",
            "in Jamaica the range of success estimates is 0.09999999999999998\n",
            "in Switzerland the range of success estimates is 0.48\n",
            "in Germany the range of success estimates is 0.13\n"
          ],
          "name": "stdout"
        }
      ]
    },
    {
      "cell_type": "code",
      "metadata": {
        "id": "ATDAodc6Ba24",
        "colab_type": "code",
        "outputId": "d839c7ee-facd-44b2-fd97-bbbcbc782b4c",
        "colab": {
          "base_uri": "https://localhost:8080/",
          "height": 34
        }
      },
      "source": [
        "#Code in this cell.\n",
        "#PART 2\n",
        "lista_rangos=[]\n",
        "for i in country_name_list:\n",
        "  range_estimates_i=max(success_estimates[i])-min(success_estimates[i])\n",
        "  lista_rangos=lista_rangos+[range_estimates_i]\n",
        "print(max(lista_rangos))"
      ],
      "execution_count": 0,
      "outputs": [
        {
          "output_type": "stream",
          "text": [
            "0.84\n"
          ],
          "name": "stdout"
        }
      ]
    },
    {
      "cell_type": "code",
      "metadata": {
        "id": "W0Y5ik0rHbuY",
        "colab_type": "code",
        "outputId": "1d907bfc-90eb-49a0-e178-2746b4407418",
        "colab": {
          "base_uri": "https://localhost:8080/",
          "height": 34
        }
      },
      "source": [
        "#Code in this cell.\n",
        "#PART 3\n",
        "lista_rangos=[]\n",
        "for i in country_name_list:\n",
        "  range_estimates_i=max(success_estimates[i])-min(success_estimates[i])\n",
        "  lista_rangos=lista_rangos+[range_estimates_i]\n",
        "\n",
        "rango_maximo=max(lista_rangos)\n",
        "\n",
        "for i in country_name_list:\n",
        "  range_estimates=max(success_estimates[i])-min(success_estimates[i])\n",
        "  if range_estimates==rango_maximo:\n",
        "    print(f'The largest range is in {i} : {range_estimates}')\n"
      ],
      "execution_count": 0,
      "outputs": [
        {
          "output_type": "stream",
          "text": [
            "The largest range is in Greece : 0.84\n"
          ],
          "name": "stdout"
        }
      ]
    },
    {
      "cell_type": "markdown",
      "metadata": {
        "id": "5aOZ4I7tmUdr",
        "colab_type": "text"
      },
      "source": [
        "## Using list comprehensions to determine the number of estimates"
      ]
    },
    {
      "cell_type": "markdown",
      "metadata": {
        "id": "dS9NPNjzmUdr",
        "colab_type": "text"
      },
      "source": [
        "Moving forward, we are interested in knowing the number of success estimates available for each country. Python offers a concise way to achieve this goal through the use of <b>list comprehensions</b>. Every list comprehension can also be rewritten as a `for` loop. The list comprehension syntax is simply more concise.\n",
        "\n",
        "[List comprehensions](https://www.programiz.com/python-programming/list-comprehension) allow one to concisely build a list. Let's take a look at how this works:"
      ]
    },
    {
      "cell_type": "code",
      "metadata": {
        "id": "NgvcMxcyL6Pe",
        "colab_type": "code",
        "outputId": "1ebc3666-195b-44db-a71b-ce3d7a975b06",
        "colab": {
          "base_uri": "https://localhost:8080/",
          "height": 34
        }
      },
      "source": [
        "[i*2 for i in range(5)]"
      ],
      "execution_count": 0,
      "outputs": [
        {
          "output_type": "execute_result",
          "data": {
            "text/plain": [
              "[0, 2, 4, 6, 8]"
            ]
          },
          "metadata": {
            "tags": []
          },
          "execution_count": 74
        }
      ]
    },
    {
      "cell_type": "code",
      "metadata": {
        "id": "Oj1hULx0mUdr",
        "colab_type": "code",
        "outputId": "b30b27ef-49e9-4217-8499-b58a0bceeb5b",
        "colab": {
          "base_uri": "https://localhost:8080/",
          "height": 272
        }
      },
      "source": [
        "key_name_list = [i for i in success_estimates] # loop over each item i in success_estimates and put i in the list\n",
        "key_name_list"
      ],
      "execution_count": 0,
      "outputs": [
        {
          "output_type": "execute_result",
          "data": {
            "text/plain": [
              "['Australia',\n",
              " 'France',\n",
              " 'Italy',\n",
              " 'Brazil',\n",
              " 'USA',\n",
              " 'England',\n",
              " 'Canada',\n",
              " 'Argentina',\n",
              " 'Greece',\n",
              " 'Morocco',\n",
              " 'Tunisia',\n",
              " 'Egypt',\n",
              " 'Jamaica',\n",
              " 'Switzerland',\n",
              " 'Germany']"
            ]
          },
          "metadata": {
            "tags": []
          },
          "execution_count": 75
        }
      ]
    },
    {
      "cell_type": "markdown",
      "metadata": {
        "id": "bITbxV0jmUdu",
        "colab_type": "text"
      },
      "source": [
        "Here we see that we've looped over each key of the dictionary `success_estimates` (hence each country), and extracted the country name, all in one line of code. We can also access the values of each key in `success_estimates`:"
      ]
    },
    {
      "cell_type": "code",
      "metadata": {
        "id": "NgLvhIwtmUdu",
        "colab_type": "code",
        "outputId": "eef57249-ed2d-42bf-fd1f-297932534227",
        "colab": {
          "base_uri": "https://localhost:8080/",
          "height": 272
        }
      },
      "source": [
        "value_name_list = [success_estimates[country] for country in success_estimates] # loop over each item in success_estimates and put success_estimates[i] in the list\n",
        "value_name_list"
      ],
      "execution_count": 0,
      "outputs": [
        {
          "output_type": "execute_result",
          "data": {
            "text/plain": [
              "[[0.6, 0.33, 0.11, 0.14],\n",
              " [0.66, 0.78, 0.98, 0.2],\n",
              " [0.6],\n",
              " [0.22, 0.22, 0.43],\n",
              " [0.2, 0.5, 0.3],\n",
              " [0.45],\n",
              " [0.25, 0.3],\n",
              " [0.22],\n",
              " [0.45, 0.66, 0.75, 0.99, 0.15, 0.66],\n",
              " [0.29],\n",
              " [0.68, 0.56],\n",
              " [0.99],\n",
              " [0.61, 0.65, 0.71],\n",
              " [0.73, 0.86, 0.84, 0.51, 0.99],\n",
              " [0.45, 0.49, 0.36]]"
            ]
          },
          "metadata": {
            "tags": []
          },
          "execution_count": 76
        }
      ]
    },
    {
      "cell_type": "markdown",
      "metadata": {
        "id": "0iqQl2iamUdx",
        "colab_type": "text"
      },
      "source": [
        "In the list comprehension above, each value of the ```iterator_variable``` is a country name and the value is returned when ```success_estimates[country]``` is called. We see the list comprehension is an effective and concise way to write a `for` loop that creates a list.\n",
        "\n",
        "We can use this to quickly determine how many success estimates are available for each country:"
      ]
    },
    {
      "cell_type": "code",
      "metadata": {
        "id": "gRNIgHuMmUdx",
        "colab_type": "code",
        "outputId": "1f593eba-8891-4bf1-f566-5936d9761876",
        "colab": {
          "base_uri": "https://localhost:8080/",
          "height": 272
        }
      },
      "source": [
        "# Number of estimates available for each country\n",
        "[[i, len(success_estimates[i])] for i in success_estimates]"
      ],
      "execution_count": 0,
      "outputs": [
        {
          "output_type": "execute_result",
          "data": {
            "text/plain": [
              "[['Australia', 4],\n",
              " ['France', 4],\n",
              " ['Italy', 1],\n",
              " ['Brazil', 3],\n",
              " ['USA', 3],\n",
              " ['England', 1],\n",
              " ['Canada', 2],\n",
              " ['Argentina', 1],\n",
              " ['Greece', 6],\n",
              " ['Morocco', 1],\n",
              " ['Tunisia', 2],\n",
              " ['Egypt', 1],\n",
              " ['Jamaica', 3],\n",
              " ['Switzerland', 5],\n",
              " ['Germany', 3]]"
            ]
          },
          "metadata": {
            "tags": []
          },
          "execution_count": 77
        }
      ]
    },
    {
      "cell_type": "markdown",
      "metadata": {
        "id": "SrRd8VL6mUdy",
        "colab_type": "text"
      },
      "source": [
        "### Exercise 6:"
      ]
    },
    {
      "cell_type": "markdown",
      "metadata": {
        "id": "YRZo6AlsmUdz",
        "colab_type": "text"
      },
      "source": [
        "Using list comprehensions, write a script to create a <b>list of lists</b> called ```sum_squares_list```, where each element of the list is a two-item list [country name, value]. The value item in the list should be the sum of squares of that country's success estimates. For example, one element of ```sum_squares_list``` should be for Jamaica, where the two-item list is [Jamaica, 1.2987] (since 1.2987 = 0.61^2 + 0.65^2 + 0.71^2)."
      ]
    },
    {
      "cell_type": "markdown",
      "metadata": {
        "id": "IewQWrM7mUdz",
        "colab_type": "text"
      },
      "source": [
        "**Answer.**"
      ]
    },
    {
      "cell_type": "code",
      "metadata": {
        "id": "2kTJz026lm2T",
        "colab_type": "code",
        "outputId": "1d205cc0-fe15-4015-8774-290b55845b57",
        "colab": {
          "base_uri": "https://localhost:8080/",
          "height": 54
        }
      },
      "source": [
        "list_country=[]\n",
        "for country_i in success_estimates:\n",
        "  list_squares=[]\n",
        "  for i in success_estimates.get(country_i):\n",
        "    list_squares=list_squares+[i**2]\n",
        "  list_country=list_country+[[country_i, sum(list_squares)]]\n",
        "print(list_country)"
      ],
      "execution_count": 0,
      "outputs": [
        {
          "output_type": "stream",
          "text": [
            "[['Australia', 0.5005999999999999], ['France', 2.0444], ['Italy', 0.36], ['Brazil', 0.28169999999999995], ['USA', 0.38], ['England', 0.2025], ['Canada', 0.1525], ['Argentina', 0.0484], ['Greece', 2.6388], ['Morocco', 0.0841], ['Tunisia', 0.7760000000000001], ['Egypt', 0.9801], ['Jamaica', 1.2987], ['Switzerland', 3.2183], ['Germany', 0.5722]]\n"
          ],
          "name": "stdout"
        }
      ]
    },
    {
      "cell_type": "code",
      "metadata": {
        "scrolled": true,
        "id": "xRaFJdhxmUdz",
        "colab_type": "code",
        "outputId": "2945054f-7deb-4354-8462-f2dad9fed48e",
        "colab": {
          "base_uri": "https://localhost:8080/",
          "height": 272
        }
      },
      "source": [
        "#Code in this cell.\n",
        "[[country_i, sum([i**2 for i in success_estimates.get(country_i)])] for country_i in success_estimates]"
      ],
      "execution_count": 0,
      "outputs": [
        {
          "output_type": "execute_result",
          "data": {
            "text/plain": [
              "[['Australia', 0.5005999999999999],\n",
              " ['France', 2.0444],\n",
              " ['Italy', 0.36],\n",
              " ['Brazil', 0.28169999999999995],\n",
              " ['USA', 0.38],\n",
              " ['England', 0.2025],\n",
              " ['Canada', 0.1525],\n",
              " ['Argentina', 0.0484],\n",
              " ['Greece', 2.6388],\n",
              " ['Morocco', 0.0841],\n",
              " ['Tunisia', 0.7760000000000001],\n",
              " ['Egypt', 0.9801],\n",
              " ['Jamaica', 1.2987],\n",
              " ['Switzerland', 3.2183],\n",
              " ['Germany', 0.5722]]"
            ]
          },
          "metadata": {
            "tags": []
          },
          "execution_count": 79
        }
      ]
    },
    {
      "cell_type": "markdown",
      "metadata": {
        "id": "speitMAqmUd1",
        "colab_type": "text"
      },
      "source": [
        "### Exercise 7:\n",
        "\n",
        "We'd like to determine the spread around the mean success estimate for each country. Using list comprehensions, write a script that subtracts the mean success estimate for a given country from each success estimate for that country. Store the results in a list named ```removed_mean_list```. Round values to two decimal places. Your output should produce the following list of lists:\n",
        "\n",
        "```\n",
        "[['Australia', [0.3, 0.03, -0.19, -0.16]],\n",
        " ['France', [0.01, 0.12, 0.32, -0.46]],\n",
        " ['Italy', [0.0]],\n",
        " ['Brazil', [-0.07, -0.07, 0.14]],\n",
        " ['USA', [-0.13, 0.17, -0.03]],\n",
        " ['England', [0.0]],\n",
        " ['Canada', [-0.03, 0.02]],\n",
        " ['Argentina', [0.0]],\n",
        " ['Greece', [-0.16, 0.05, 0.14, 0.38, -0.46, 0.05]],\n",
        " ['Morocco', [0.0]],\n",
        " ['Tunisia', [0.06, -0.06]],\n",
        " ['Egypt', [0.0]],\n",
        " ['Jamaica', [-0.05, -0.01, 0.05]],\n",
        " ['Switzerland', [-0.06, 0.07, 0.05, -0.28, 0.2]],\n",
        " ['Germany', [0.02, 0.06, -0.07]]]\n",
        "```"
      ]
    },
    {
      "cell_type": "markdown",
      "metadata": {
        "id": "wZ918QQKmUd2",
        "colab_type": "text"
      },
      "source": [
        "**Answer.**"
      ]
    },
    {
      "cell_type": "code",
      "metadata": {
        "scrolled": true,
        "id": "AgdiqYE9mUd2",
        "colab_type": "code",
        "outputId": "b75a7be3-964f-410f-dad2-422d87a79119",
        "colab": {
          "base_uri": "https://localhost:8080/",
          "height": 272
        }
      },
      "source": [
        "#Code in this cell.\n",
        "removed_mean_list = [[i, [round(j - sum(success_estimates[i])/len(success_estimates[i]),2) for j in success_estimates[i]]] for i in success_estimates]\n",
        "removed_mean_list"
      ],
      "execution_count": 0,
      "outputs": [
        {
          "output_type": "execute_result",
          "data": {
            "text/plain": [
              "[['Australia', [0.3, 0.03, -0.19, -0.16]],\n",
              " ['France', [0.01, 0.12, 0.32, -0.46]],\n",
              " ['Italy', [0.0]],\n",
              " ['Brazil', [-0.07, -0.07, 0.14]],\n",
              " ['USA', [-0.13, 0.17, -0.03]],\n",
              " ['England', [0.0]],\n",
              " ['Canada', [-0.03, 0.02]],\n",
              " ['Argentina', [0.0]],\n",
              " ['Greece', [-0.16, 0.05, 0.14, 0.38, -0.46, 0.05]],\n",
              " ['Morocco', [0.0]],\n",
              " ['Tunisia', [0.06, -0.06]],\n",
              " ['Egypt', [0.0]],\n",
              " ['Jamaica', [-0.05, -0.01, 0.05]],\n",
              " ['Switzerland', [-0.06, 0.07, 0.05, -0.28, 0.2]],\n",
              " ['Germany', [0.02, 0.06, -0.07]]]"
            ]
          },
          "metadata": {
            "tags": []
          },
          "execution_count": 80
        }
      ]
    },
    {
      "cell_type": "markdown",
      "metadata": {
        "id": "C_22ncBWmUd3",
        "colab_type": "text"
      },
      "source": [
        "As list comprehension gets more complicated, it becomes more and more important to use proper naming conventions for variables. Good naming conventions dramatically improve the readability of your code."
      ]
    },
    {
      "cell_type": "markdown",
      "metadata": {
        "id": "7bwZyA6ZmUd3",
        "colab_type": "text"
      },
      "source": [
        "## Reflecting on the country-specific mean success estimate"
      ]
    },
    {
      "cell_type": "markdown",
      "metadata": {
        "id": "GqdjiYQMmUd4",
        "colab_type": "text"
      },
      "source": [
        "Based on the above analysis, we see the mean country success estimates vary widely, from the lowest, Canada = 0.275, to the highest, Egypt = 0.99. However, notice that Egypt's mean is calculated from 1 success estimate. Are we confident in trusting a single estimate as a proxy for the average success estimate?\n",
        "\n",
        "Given that the global expansion project will utilize valuable company resources, we decide it is best to restrict our analysis to countries that have two or more success estimates. To accomplish this task, we will use a control structure in Python known as the <b>[if...elif...else statement](https://www.w3schools.com/python/python_conditions.asp)</b>. The general structure follows:\n",
        "\n",
        "```python\n",
        "if test_expression_1:\n",
        "    block1_statement(s)\n",
        "elif test_expression_2:\n",
        "    block2_statement2(s)\n",
        "else:\n",
        "    block3_statement(s)\n",
        "```\n",
        "\n",
        "Here, ```test_expression_1``` and ```test_expression_2``` must evaluate to ```True``` or ```False```, a Python <b>boolean</b> type. The boolean type is associated with variables that are either ```True``` or ```False```.\n",
        "\n",
        "If ```test_expression_1``` is True, ```block1_statement(s)``` will execute and the other block statements will not. If ```test_expression_1``` is False yet ```test_expression_2``` is True, then ```block2_statement2(s)``` will execute and the others will not. Finally, if ```test_expression_1``` and ```test_expression_2``` are both False, then the else section's ```block3_statement(s)``` will execute. This conditional structure of an if statement allows one to control the flow of Python code.\n",
        "    \n",
        "The `elif` and `else` blocks are optional. You can also have a plain `if` block that simply executes some lines of code or skips them, depending on the evaluation of the conditional. As an example, let's look at only two countries from our dataset: Italy and Jamaica:"
      ]
    },
    {
      "cell_type": "code",
      "metadata": {
        "id": "D8yV0ox_mUd4",
        "colab_type": "code",
        "outputId": "27aa8e2e-a8d2-482e-a3fa-27bf0063034e",
        "colab": {
          "base_uri": "https://localhost:8080/",
          "height": 51
        }
      },
      "source": [
        "italy = success_estimates['Italy']\n",
        "jamaica = success_estimates['Jamaica']\n",
        "\n",
        "print(len(italy) > 1)\n",
        "print(len(jamaica) > 1)"
      ],
      "execution_count": 0,
      "outputs": [
        {
          "output_type": "stream",
          "text": [
            "False\n",
            "True\n"
          ],
          "name": "stdout"
        }
      ]
    },
    {
      "cell_type": "markdown",
      "metadata": {
        "id": "djmQj2sJmUd5",
        "colab_type": "text"
      },
      "source": [
        "Above, we used the greater than operator `>` to compare two numbers and produce a boolean (the simplest Python data type - always either True or False). In the first case, we got False because the length of the `italy` list is **not** larger than 1. Put differently, it is not True that 1 > 1, so we get False. By contrast, Jamaica has 3 items, so the evaluation simplifies to `3 > 1` which is True, so on the second line above we see the output `True`.\n",
        "\n",
        "We can combine these expressions with `if` statements to control the flow of our code. An example is shown below:"
      ]
    },
    {
      "cell_type": "code",
      "metadata": {
        "id": "R7LXFCismUd6",
        "colab_type": "code",
        "outputId": "bc888fee-0b73-4483-9c7d-8a852d3435d6",
        "colab": {
          "base_uri": "https://localhost:8080/",
          "height": 34
        }
      },
      "source": [
        "if len(italy) > 1:\n",
        "    print(\"Italy has more than 1 estimate\")\n",
        "\n",
        "if len(jamaica) > 1:\n",
        "    print(\"Jamaica has more than 1 estimate\")"
      ],
      "execution_count": 0,
      "outputs": [
        {
          "output_type": "stream",
          "text": [
            "Jamaica has more than 1 estimate\n"
          ],
          "name": "stdout"
        }
      ]
    },
    {
      "cell_type": "markdown",
      "metadata": {
        "id": "oYVtPRScmUd8",
        "colab_type": "text"
      },
      "source": [
        "Above, we can see that the second line of code got skipped. It was never executed and we see no output for the statement that is \"gated off\" there.\n",
        "    \n",
        "The above shows two separate `if` blocks. Note that there is a difference between having two separate `if` blocks and an `if else` block, as shown below:"
      ]
    },
    {
      "cell_type": "code",
      "metadata": {
        "id": "WOwrubEgmUd8",
        "colab_type": "code",
        "outputId": "317e31f5-742b-4118-b860-94d4d4a5f7b9",
        "colab": {
          "base_uri": "https://localhost:8080/",
          "height": 34
        }
      },
      "source": [
        "# **Incorrect logic warning**\n",
        "if len(italy) > 0:\n",
        "    print(\"Italy has more than 0 estimates\")\n",
        "elif len(jamaica) > 0:\n",
        "    print(\"Jamaica has more than 0 estimates\")\n",
        "else:\n",
        "    print(\"this will only execute if neither of the above lines do\")"
      ],
      "execution_count": 0,
      "outputs": [
        {
          "output_type": "stream",
          "text": [
            "Italy has more than 0 estimates\n"
          ],
          "name": "stdout"
        }
      ]
    },
    {
      "cell_type": "markdown",
      "metadata": {
        "id": "g4CM18LJmUd9",
        "colab_type": "text"
      },
      "source": [
        "The example above shows how careful you have to be when coding. We use `0` instead of `1` as the minimum length of the list that we are interested in. Because the first statement evaluates to `True` (Italy *does* have more than zero estimates), Python skips the rest of the code without looking at it. Even though the next condition for Jamaica is _also_ true, because it is in an `elif` block it will never execute if any expression further above in the same block evaluated to True.\n",
        "   \n",
        "You'll see more advanced use of conditional logic using `if` later. For now, let's combine `if` statements with `for` loops to filter out all of the countries that only have one success estimate."
      ]
    },
    {
      "cell_type": "markdown",
      "metadata": {
        "id": "bDKljkPomUd-",
        "colab_type": "text"
      },
      "source": [
        "## Selecting only multi-observation countries for global expansion potential"
      ]
    },
    {
      "cell_type": "markdown",
      "metadata": {
        "id": "LOW00auFmUd-",
        "colab_type": "text"
      },
      "source": [
        "We will use the if statement above to remove countries with less than one success estimate. For convenience of viewing the result, we will store the mean estimates for each country in a new dictionary ```country_means```:"
      ]
    },
    {
      "cell_type": "code",
      "metadata": {
        "id": "HG-KiRDImUd-",
        "colab_type": "code",
        "outputId": "e67cdbae-1f47-43af-b5e5-d510e8d56168",
        "colab": {
          "base_uri": "https://localhost:8080/",
          "height": 272
        }
      },
      "source": [
        "# Get a list of all the country names\n",
        "country_name_list = list(success_estimates.keys())\n",
        "\n",
        "# Create an empty dictionary to hold country mean estimates\n",
        "country_means = {}\n",
        "\n",
        "# Loop through all countries and calculate their mean success estimate\n",
        "for i in country_name_list:\n",
        "    list_country_estimates = success_estimates[i] # list of estimates for a country\n",
        "\n",
        "    # if more than one country estimate, then record the mean estimate, otherwise go to next loop iteration\n",
        "    if len(success_estimates[i]) > 1:\n",
        "        print(\"adding the mean for\",i)\n",
        "        country_mean_value = sum(list_country_estimates) / len(list_country_estimates)\n",
        "        country_means[i] =  country_mean_value # insert country mean value into dict using country name as key\n",
        "    else:\n",
        "        print(\"....skipping\", i)"
      ],
      "execution_count": 0,
      "outputs": [
        {
          "output_type": "stream",
          "text": [
            "adding the mean for Australia\n",
            "adding the mean for France\n",
            "....skipping Italy\n",
            "adding the mean for Brazil\n",
            "adding the mean for USA\n",
            "....skipping England\n",
            "adding the mean for Canada\n",
            "....skipping Argentina\n",
            "adding the mean for Greece\n",
            "....skipping Morocco\n",
            "adding the mean for Tunisia\n",
            "....skipping Egypt\n",
            "adding the mean for Jamaica\n",
            "adding the mean for Switzerland\n",
            "adding the mean for Germany\n"
          ],
          "name": "stdout"
        }
      ]
    },
    {
      "cell_type": "markdown",
      "metadata": {
        "id": "mQR30QvZmUeC",
        "colab_type": "text"
      },
      "source": [
        "Note that countries which do not have more than one estimate are skipped. Not only are the `print` lines ignored, but every line in the `if` block are also ignored, so the means for the countries with only one estimate are not added to `country_means`."
      ]
    },
    {
      "cell_type": "markdown",
      "metadata": {
        "id": "Kpw8ouXTmUeC",
        "colab_type": "text"
      },
      "source": [
        "Let's format our results, [modifying the string output](https://www.geeksforgeeks.org/python-format-function/) to the screen to use 2 decimals when printing the float type. This is accomplished using the string type's ```.format()``` functionality. The ```{0:s}``` and ```{1:.2f}``` in the string indicate to the ```.format()``` method to format the first variable it receives as input as a string and replace the ```{0:s}``` placeholder, and to format the second variable it receives as input as a 2-decimal float and replace the ```{1:.2f}``` placeholder.\n",
        "\n",
        "With this formatting, the ```country_key``` variable will be displayed as a string in place of ```{0:s}```, while the ```country_means[country_key]``` variable will be displayed as a 2-decimal float in place of ```{1:.2f}```.  This advanced string formatting approach is useful to improve the clarity of the results:"
      ]
    },
    {
      "cell_type": "code",
      "metadata": {
        "scrolled": true,
        "id": "L_HWi1domUeC",
        "colab_type": "code",
        "outputId": "bb5592d7-d809-4b5c-c2c1-19ada86fcd5f",
        "colab": {
          "base_uri": "https://localhost:8080/",
          "height": 187
        }
      },
      "source": [
        "# Nicely format the result for printing to the screen\n",
        "for country_key in country_means: \n",
        "    print(\"Country: {0:s}, Avg Success Estimate: {1:.2f}\".format(country_key, country_means[country_key]))"
      ],
      "execution_count": 0,
      "outputs": [
        {
          "output_type": "stream",
          "text": [
            "Country: Australia, Avg Success Estimate: 0.30\n",
            "Country: France, Avg Success Estimate: 0.66\n",
            "Country: Brazil, Avg Success Estimate: 0.29\n",
            "Country: USA, Avg Success Estimate: 0.33\n",
            "Country: Canada, Avg Success Estimate: 0.28\n",
            "Country: Greece, Avg Success Estimate: 0.61\n",
            "Country: Tunisia, Avg Success Estimate: 0.62\n",
            "Country: Jamaica, Avg Success Estimate: 0.66\n",
            "Country: Switzerland, Avg Success Estimate: 0.79\n",
            "Country: Germany, Avg Success Estimate: 0.43\n"
          ],
          "name": "stdout"
        }
      ]
    },
    {
      "cell_type": "markdown",
      "metadata": {
        "id": "Ow91Wha7mUeF",
        "colab_type": "text"
      },
      "source": [
        "Observing the resulting country means, we notice the country with the largest mean success estimate is Switzerland at 0.79, while the lowest mean success estimate is Canada at 0.28."
      ]
    },
    {
      "cell_type": "markdown",
      "metadata": {
        "id": "TAWLTXWQmUeG",
        "colab_type": "text"
      },
      "source": [
        "### Exercise 8:\n",
        "\n",
        "After reviewing company policy on statistical procedures, you notice the company recommends that all estimates (averages, minimums, maximums) must have at least three values contributing to the summary statistic. Write a `for` loop and use the ```if``` statement structure to select and print the average success estimates for the countries satisfying this policy. If the country does not satisfy the policy, print the country name and ``\"*Does not meet company policy*\"``. Each country should appear on a new line."
      ]
    },
    {
      "cell_type": "markdown",
      "metadata": {
        "id": "VR7AT6xKmUeG",
        "colab_type": "text"
      },
      "source": [
        "**Answer.**"
      ]
    },
    {
      "cell_type": "code",
      "metadata": {
        "id": "e_-iQX4imUeG",
        "colab_type": "code",
        "outputId": "e619cffe-99d5-4098-f0d3-720e4bf28c3a",
        "colab": {
          "base_uri": "https://localhost:8080/",
          "height": 272
        }
      },
      "source": [
        "# Get a list of all the country names\n",
        "country_list = success_estimates.keys()\n",
        "# Create an empty dictionary to hold country mean estimates\n",
        "country_mean_estimates = {}\n",
        "\n",
        "# Loop through all countries and calculate their mean success estimate\n",
        "for i in country_list:\n",
        "  mean_estimates=sum(success_estimates[i])/len(success_estimates[i])\n",
        "  country_mean_estimates[i] = mean_estimates\n",
        "  \n",
        "  # if more than one country estimate, then record the mean estimate, otherwise go to next loop iteration\n",
        "  if len(success_estimates[i]) < 3:\n",
        "    country_mean_estimates[i] = \"*Does not meet company policy*\"\n",
        "country_mean_estimates"
      ],
      "execution_count": 0,
      "outputs": [
        {
          "output_type": "execute_result",
          "data": {
            "text/plain": [
              "{'Argentina': '*Does not meet company policy*',\n",
              " 'Australia': 0.29500000000000004,\n",
              " 'Brazil': 0.29,\n",
              " 'Canada': '*Does not meet company policy*',\n",
              " 'Egypt': '*Does not meet company policy*',\n",
              " 'England': '*Does not meet company policy*',\n",
              " 'France': 0.655,\n",
              " 'Germany': 0.4333333333333333,\n",
              " 'Greece': 0.61,\n",
              " 'Italy': '*Does not meet company policy*',\n",
              " 'Jamaica': 0.6566666666666666,\n",
              " 'Morocco': '*Does not meet company policy*',\n",
              " 'Switzerland': 0.7859999999999999,\n",
              " 'Tunisia': '*Does not meet company policy*',\n",
              " 'USA': 0.3333333333333333}"
            ]
          },
          "metadata": {
            "tags": []
          },
          "execution_count": 103
        }
      ]
    },
    {
      "cell_type": "markdown",
      "metadata": {
        "id": "E4jTTT8cmUeI",
        "colab_type": "text"
      },
      "source": [
        "### Exercise 9:\n",
        "\n",
        "In addition to the above policy, the company wants to flag countries where the range of estimates is too big, as this is usually due to the estimates being taken at very different times, or outright containing errors. They want to pay special attention to cases where the range (the difference between the largest and smallest estimates) is larger than 0.6. Calculate the range for each country and indicate if it should be flagged."
      ]
    },
    {
      "cell_type": "markdown",
      "metadata": {
        "id": "Wa9kDZe5mUeI",
        "colab_type": "text"
      },
      "source": [
        "**Answer.** "
      ]
    },
    {
      "cell_type": "code",
      "metadata": {
        "id": "FsgPbi4VmUeI",
        "colab_type": "code",
        "outputId": "73e22a2c-fd85-47d1-fdb9-698f61fa30fb",
        "colab": {
          "base_uri": "https://localhost:8080/",
          "height": 272
        }
      },
      "source": [
        "#Code in this cell.\n",
        "country_list = success_estimates.keys()\n",
        "country_range_estimates = {}\n",
        "\n",
        "for i in country_list:\n",
        "  range_estimates=max(success_estimates[i])-min(success_estimates[i])\n",
        "  country_range_estimates[i] = range_estimates\n",
        "  \n",
        "  if country_range_estimates[i] > 0.6:\n",
        "    country_range_estimates[i] = range_estimates, 'it should be flagged'\n",
        "country_range_estimates"
      ],
      "execution_count": 0,
      "outputs": [
        {
          "output_type": "execute_result",
          "data": {
            "text/plain": [
              "{'Argentina': 0.0,\n",
              " 'Australia': 0.49,\n",
              " 'Brazil': 0.21,\n",
              " 'Canada': 0.04999999999999999,\n",
              " 'Egypt': 0.0,\n",
              " 'England': 0.0,\n",
              " 'France': (0.78, 'it should be flagged'),\n",
              " 'Germany': 0.13,\n",
              " 'Greece': (0.84, 'it should be flagged'),\n",
              " 'Italy': 0.0,\n",
              " 'Jamaica': 0.09999999999999998,\n",
              " 'Morocco': 0.0,\n",
              " 'Switzerland': 0.48,\n",
              " 'Tunisia': 0.12,\n",
              " 'USA': 0.3}"
            ]
          },
          "metadata": {
            "tags": []
          },
          "execution_count": 106
        }
      ]
    },
    {
      "cell_type": "markdown",
      "metadata": {
        "id": "4ZPaJfO-mUeL",
        "colab_type": "text"
      },
      "source": [
        "______"
      ]
    },
    {
      "cell_type": "markdown",
      "metadata": {
        "id": "gB3y1fcYmUeM",
        "colab_type": "text"
      },
      "source": [
        "Note that we used a more concise way of looping through a dictionary in the code above, accessing items from it directly instead of creating a `country_name_list` variable as an intermediary step. France and Greece got flagged. You can see by inspection that France has both 0.2 and 0.98 as success estimates, and Greece has 0.15 and 0.99."
      ]
    },
    {
      "cell_type": "markdown",
      "metadata": {
        "id": "UGYa20l5mUeM",
        "colab_type": "text"
      },
      "source": [
        "### Exercise 10:\n",
        "\n",
        "What is another approach to resolve the one-sample problem for some countries? Think in terms of the factors that drive confidence in data-driven business decisions.\n",
        "\n",
        "(a) Group countries together to larger regions to ensure each region has at least one estimate\n",
        "\n",
        "(b) Only remove a country if its estimates are very large or very small compared to other estimates\n",
        "\n",
        "(c) Use a different summary statistic for the analysis other than the average value\n",
        "\n",
        "(d) Revisit why some countries only have one estimate and see if more data can be sourced for these countries\n",
        "\n",
        "**Answer = (d)** "
      ]
    },
    {
      "cell_type": "markdown",
      "metadata": {
        "id": "upG5BO-3mUeM",
        "colab_type": "text"
      },
      "source": [
        "## Putting it all together"
      ]
    },
    {
      "cell_type": "markdown",
      "metadata": {
        "id": "QCjxqHkXmUeN",
        "colab_type": "text"
      },
      "source": [
        "We've used for loops and control structures to calculate partial summary statistics for each of the countries. Let's put it all together to obtain a recommendation on which country we should choose to expand the luxury flight services."
      ]
    },
    {
      "cell_type": "markdown",
      "metadata": {
        "id": "Dws5T7-LmUeN",
        "colab_type": "text"
      },
      "source": [
        "### Exercise 11:\n",
        "\n",
        "Write code to print each country name and summary statistics. Each line should show one country and the corresponding summary statistics: Min Estimate (float), Average Estimate (float), Max Estimate (float), Number of Estimates (int), Meets Company Policy of at least 3 estimates (bool). For example, the line for France would appear as:\n",
        "```\n",
        "Country: France , Min: 0.2 , Average: 0.655 , Max: 0.98 , NumEst: 4 , MeetsPolicy: True\n",
        "```"
      ]
    },
    {
      "cell_type": "markdown",
      "metadata": {
        "id": "PI4ZsjOFmUeN",
        "colab_type": "text"
      },
      "source": [
        "**Answer.**"
      ]
    },
    {
      "cell_type": "code",
      "metadata": {
        "id": "KB6WECtWmUeO",
        "colab_type": "code",
        "outputId": "b92f3a06-18f7-41b5-8c4f-8c5991c99ccd",
        "colab": {
          "base_uri": "https://localhost:8080/",
          "height": 272
        }
      },
      "source": [
        "#Code in this cell.\n",
        "for i in success_estimates.keys():\n",
        "  min_est=min(success_estimates[i])\n",
        "  average_est=sum(success_estimates[i])/len(success_estimates[i])\n",
        "  max_est=min(success_estimates[i])\n",
        "  numest_est=len(success_estimates[i])\n",
        "  meetspolicy_est= len(success_estimates[i]) >= 3\n",
        "  print(f'Country: {i} , Min: {min_est} , Average: {average_est} , Max: {max_est} , NumEst: {numest_est} , MeetsPolicy: {meetspolicy_est}')"
      ],
      "execution_count": 0,
      "outputs": [
        {
          "output_type": "stream",
          "text": [
            "Country: Australia , Min: 0.11 , Average: 0.29500000000000004 , Max: 0.11 , NumEst: 4 , MeetsPolicy: True\n",
            "Country: France , Min: 0.2 , Average: 0.655 , Max: 0.2 , NumEst: 4 , MeetsPolicy: True\n",
            "Country: Italy , Min: 0.6 , Average: 0.6 , Max: 0.6 , NumEst: 1 , MeetsPolicy: False\n",
            "Country: Brazil , Min: 0.22 , Average: 0.29 , Max: 0.22 , NumEst: 3 , MeetsPolicy: True\n",
            "Country: USA , Min: 0.2 , Average: 0.3333333333333333 , Max: 0.2 , NumEst: 3 , MeetsPolicy: True\n",
            "Country: England , Min: 0.45 , Average: 0.45 , Max: 0.45 , NumEst: 1 , MeetsPolicy: False\n",
            "Country: Canada , Min: 0.25 , Average: 0.275 , Max: 0.25 , NumEst: 2 , MeetsPolicy: False\n",
            "Country: Argentina , Min: 0.22 , Average: 0.22 , Max: 0.22 , NumEst: 1 , MeetsPolicy: False\n",
            "Country: Greece , Min: 0.15 , Average: 0.61 , Max: 0.15 , NumEst: 6 , MeetsPolicy: True\n",
            "Country: Morocco , Min: 0.29 , Average: 0.29 , Max: 0.29 , NumEst: 1 , MeetsPolicy: False\n",
            "Country: Tunisia , Min: 0.56 , Average: 0.6200000000000001 , Max: 0.56 , NumEst: 2 , MeetsPolicy: False\n",
            "Country: Egypt , Min: 0.99 , Average: 0.99 , Max: 0.99 , NumEst: 1 , MeetsPolicy: False\n",
            "Country: Jamaica , Min: 0.61 , Average: 0.6566666666666666 , Max: 0.61 , NumEst: 3 , MeetsPolicy: True\n",
            "Country: Switzerland , Min: 0.51 , Average: 0.7859999999999999 , Max: 0.51 , NumEst: 5 , MeetsPolicy: True\n",
            "Country: Germany , Min: 0.36 , Average: 0.4333333333333333 , Max: 0.36 , NumEst: 3 , MeetsPolicy: True\n"
          ],
          "name": "stdout"
        }
      ]
    },
    {
      "cell_type": "markdown",
      "metadata": {
        "id": "KY38tuY_mUeP",
        "colab_type": "text"
      },
      "source": [
        "###  Exercise 12: \n",
        "\n",
        "We can see that Switzerland has the highest average by looking at all of the values, but let's take this one step further and get Python to calculate that for us. \n",
        "\n",
        "Loop through the data again but keep track of the best country **that meets policy** and output data about only this country."
      ]
    },
    {
      "cell_type": "markdown",
      "metadata": {
        "id": "fBZpkXFdmUeQ",
        "colab_type": "text"
      },
      "source": [
        "**Answer.**"
      ]
    },
    {
      "cell_type": "code",
      "metadata": {
        "id": "LkpO_AeCmUeQ",
        "colab_type": "code",
        "outputId": "c98bf64b-78a7-4b16-ce41-83d7d55646e8",
        "colab": {
          "base_uri": "https://localhost:8080/",
          "height": 51
        }
      },
      "source": [
        "#Code in this cell.\n",
        "average_list={}\n",
        "max_average=-100\n",
        "for i in success_estimates.keys():\n",
        "  average=sum(success_estimates[i])/len(success_estimates[i])\n",
        "  if len(success_estimates[i])>=3:\n",
        "    max_average=max([max_average, average])\n",
        "    average_list[i]=average\n",
        "\n",
        "for i in average_list.keys():\n",
        "  if average_list[i]==max_average:\n",
        "    print(i, 'has de highest mean', average_list[i])\n",
        "    print(success_estimates[i])"
      ],
      "execution_count": 0,
      "outputs": [
        {
          "output_type": "stream",
          "text": [
            "Switzerland has de highest mean 0.7859999999999999\n",
            "[0.73, 0.86, 0.84, 0.51, 0.99]\n"
          ],
          "name": "stdout"
        }
      ]
    },
    {
      "cell_type": "markdown",
      "metadata": {
        "id": "XQYZchU-mUeR",
        "colab_type": "text"
      },
      "source": [
        "###  Exercise 13:\n",
        "\n",
        "We found the best country on average, but we are also interested in the safest or most conservative choice. This is defined by looking only at the **minimum** (that is, the most pessimistic) estimate for each country and taking the highest of those (still only considering ones **that meet policy**). Write code to determine and output data about this country."
      ]
    },
    {
      "cell_type": "markdown",
      "metadata": {
        "id": "E2JKDkKAmUeS",
        "colab_type": "text"
      },
      "source": [
        "**Answer.**"
      ]
    },
    {
      "cell_type": "code",
      "metadata": {
        "id": "vTv39RW1mUeS",
        "colab_type": "code",
        "outputId": "4b4e1a5b-1456-41f9-b253-53c5ffbc27e3",
        "colab": {
          "base_uri": "https://localhost:8080/",
          "height": 34
        }
      },
      "source": [
        "#Code in this cell.\n",
        "min_list={}\n",
        "max_min=-100\n",
        "\n",
        "for i in success_estimates.keys():\n",
        "  min_est=min(success_estimates[i])\n",
        "  if len(success_estimates[i])>=3:\n",
        "    max_min=max([max_min, min_est])\n",
        "    min_list[i]=min_est\n",
        "\n",
        "for i in min_list.keys():\n",
        "  if min_list[i] == max_min:\n",
        "    print(i, 'has de highest minimum' , min_list[i])"
      ],
      "execution_count": 0,
      "outputs": [
        {
          "output_type": "stream",
          "text": [
            "Jamaica has de highest minimum 0.61\n"
          ],
          "name": "stdout"
        }
      ]
    },
    {
      "cell_type": "markdown",
      "metadata": {
        "id": "K7iEgzn9mUeT",
        "colab_type": "text"
      },
      "source": [
        "Note that above we used the Python `and` keyword to combine two booleans into one. The result is True only if **both** of the components are True. It has the same effect as the nested `if` statement in Exercise 12. You can read more about logical operators at the [W3Schools tutorial](https://www.w3schools.com/python/python_operators.asp)."
      ]
    },
    {
      "cell_type": "markdown",
      "metadata": {
        "id": "HDIWeNmzmUeU",
        "colab_type": "text"
      },
      "source": [
        "Before we conclude, let's push all of our work up to GitHub for safe keeping. \n",
        "\n",
        "* Make sure any code and notebook files you have open are saved\n",
        "* Open your command prompt or terminal application and navigate to your git repository (which should also contain your work)\n",
        "* run `git status` to check the status of files. Delete any files that you do not want to push to GitHub.\n",
        "* run `git add *` to add all the files\n",
        "* run `git commit -m \"finished Python preparation case\"`\n",
        "* run `git push origin master`\n",
        "\n",
        "You should see output on your terminal confirming that the files were pushed, and if you log into github.com and navigate to your repository, you should see the files with the latest changes through the web interface."
      ]
    },
    {
      "cell_type": "markdown",
      "metadata": {
        "id": "3AD6IEyOmUeU",
        "colab_type": "text"
      },
      "source": [
        "Now that we have summary statistics for a variety of country estimates, let's construct our actionable business recommendation."
      ]
    },
    {
      "cell_type": "markdown",
      "metadata": {
        "id": "uWQFQDzxmUeV",
        "colab_type": "text"
      },
      "source": [
        "## Conclusions\n",
        "\n",
        "From the analysis, Switzerland is the country with the largest chance of success for global expansion with an estimated success rate of 0.79. The summary statistic for Switzerland was calculated with an adequate number of estimates according to company policy. Thus, it is recommended that management explore opportunities in Switzerland for luxury flight services. Jamaica is also recommended as a conservative choice. Although it did not come out top overall, none of the estimates gave it a very low probability.\n",
        "\n",
        "In addition, another country that should be closely monitored for luxury flight services is France, which held a 0.66 average success estimate. If there are additional resources in the future for further luxury service expansion, France may be an apt choice, but more investigation should be done to see why one estimate gave France only a 0.2 success estimate."
      ]
    },
    {
      "cell_type": "markdown",
      "metadata": {
        "id": "Hqwa3vXgmUeV",
        "colab_type": "text"
      },
      "source": [
        "## Takeaways\n",
        "\n",
        "In this case, we've learned the foundations of Python. Through identifying global expansion opportunities for an airline company we've covered fundamental data types, control structures, and a useful Python workflow to analyze a given set of data. You also learned about various summary statistics and how much confidence you can have in drawing conclusions from them.\n",
        "\n",
        "To recap, these are some of the building blocks of Python we just covered and we recommend you become very familiar with them before moving ahead:\n",
        "- variables\n",
        "- data types\n",
        "- `print` (how to format within `print` function)\n",
        "- lists\n",
        "- dictionaries\n",
        "- slicing/iterating\n",
        "- `for` loop\n",
        "- `if...elif...else` statements\n",
        "- list comprehension\n",
        "\n",
        "You can use these Python tools as both a foundation and a framework to build more complex projects and solve critical business problems. Python continues to be an outstanding tool to perform data-driven analysis and deliver key business insights."
      ]
    }
  ]
}